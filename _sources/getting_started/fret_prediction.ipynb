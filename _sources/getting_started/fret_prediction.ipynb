{
 "cells": [
  {
   "cell_type": "markdown",
   "id": "3c6f494a",
   "metadata": {},
   "source": [
    "# Predicting FRET\n",
    "\n",
    "This tutorial demonstrates how to perform an *in silico* FRET experiment using the external package [*FRETtraj*](https://rna-fretools.github.io/fretraj/intro.html) on the basis of an MD simulation with explicit fluorophores attached via *FRETlabel*.\n",
    "\n",
    "## Extraction of $R(t)$ and $\\kappa ^2(t)$\n",
    "Built-in GROMACS tools can be used to extract the interdye-distance $R_\\text{DA}$ and the orientation factor $\\kappa ^2$.\n",
    "\n",
    "First, define the dipole vector by an atom pair for each of the two dyes. You may either select the atoms based on their indices with `gmx make_ndx` or more expressively by reading in an atom selection with `gmx select`. To this end, save the following to a text file named *dye_selection.txt* (here atom names C2 and C14 define the dipole vector of the dye residues C3W and C5W)\n",
    "```\n",
    "\"Cy3_C2C14\" resname C3W and (name C2 or name C14)\n",
    "\"Cy5_C2C14\" resname C5W and (name C2 or name C14)\n",
    "```\n",
    "\n",
    "Then run `gmx select` on a reference pdb file to get a new index file called *dyes.ndx*\n",
    "```\n",
    "gmx select -s DNA.pdb -on dyes.ndx < dye_selection.txt\n",
    "```\n",
    "\n",
    "Now, extract $R_{DA}$ and $\\kappa ^2$ using `gmx dyecoupl` (Hoefling et al., *Comput. Phys. Commun.* **2013** {cite}`Hoefling.2013`) which is built into GROMACS. \n",
    "\n",
    "```\n",
    "gmx dyecoupl -f DNA.xtc -n dyes.ndx -o DNA_rkappa.dat\n",
    "```\n",
    "\n",
    "To calculate **anisotropy decays** also extract the coordinates of the atoms defining the dipole vector\n",
    "\n",
    "```\n",
    "gmx traj -f DNA.xtc -s DNA.pdb -n dyes.ndx -ox DNA_donor_coords.xvg\n",
    "gmx traj -f DNA.xtc -s DNA.pdb -n dyes.ndx -ox DNA_acceptor_coords.xvg\n",
    "```"
   ]
  },
  {
   "cell_type": "markdown",
   "id": "5c08ad76",
   "metadata": {},
   "source": [
    "## Simulating photons with *FRETraj*"
   ]
  },
  {
   "cell_type": "code",
   "execution_count": 1,
   "id": "1a6b608d",
   "metadata": {},
   "outputs": [],
   "source": [
    "import fretraj as ft\n",
    "import numpy as np\n",
    "import matplotlib.pyplot as plt\n",
    "import seaborn as sns\n",
    "import lmfit"
   ]
  },
  {
   "cell_type": "markdown",
   "id": "ecbf4a10",
   "metadata": {},
   "source": [
    "The parameter file *DNA_parameters.json* defines bursts settings, the experimental inputs (fluorescence lifetime, quantum yields) and the file paths."
   ]
  },
  {
   "cell_type": "code",
   "execution_count": 2,
   "id": "432d89de",
   "metadata": {},
   "outputs": [],
   "source": [
    "parameters = ft.burst.readParameters('../data/DNA_parameters.json')"
   ]
  },
  {
   "cell_type": "markdown",
   "id": "d7772835",
   "metadata": {},
   "source": [
    "Next, initialize a new experiment including calculation of the time-resolved anisotropy"
   ]
  },
  {
   "cell_type": "code",
   "execution_count": 3,
   "id": "5c60c929",
   "metadata": {},
   "outputs": [
    {
     "name": "stdout",
     "output_type": "stream",
     "text": [
      "Loading files...\n"
     ]
    },
    {
     "name": "stdout",
     "output_type": "stream",
     "text": [
      "Orientation independent R0_const = 5.8 A\n",
      "\n",
      "              donor    acceptor\n",
      "QY            0.20    0.30\n",
      "tau (ns)      0.75    1.50\n",
      "k_f (ns^-1)   0.27    0.20\n",
      "k_ic (ns^-1)  1.07    0.47\n",
      "              \n",
      "Burst averaging method: all\n",
      "Calculate anisotropy: yes\n",
      "\n"
     ]
    },
    {
     "data": {
      "application/vnd.jupyter.widget-view+json": {
       "model_id": "1568120c3a27400eaf138ecd2332c0a4",
       "version_major": 2,
       "version_minor": 0
      },
      "text/plain": [
       "Calculating bursts:   0%|          | 0/2000 [? s]"
      ]
     },
     "metadata": {},
     "output_type": "display_data"
    },
    {
     "name": "stdout",
     "output_type": "stream",
     "text": [
      "Combining burst...\n"
     ]
    },
    {
     "name": "stdout",
     "output_type": "stream",
     "text": [
      "\n",
      "\n",
      "average FRET efficiency: 0.42 +- 0.09\n",
      "\n"
     ]
    }
   ],
   "source": [
    "experiment = ft.burst.Experiment('../data', parameters, compute_anisotropy=True)"
   ]
  },
  {
   "cell_type": "markdown",
   "id": "3d7000f0",
   "metadata": {},
   "source": [
    "Plot the **FRET distribution** and fit a normal distribution to the data."
   ]
  },
  {
   "cell_type": "code",
   "execution_count": 4,
   "id": "a1a10b7c",
   "metadata": {},
   "outputs": [],
   "source": [
    "hist, bins = np.histogram(experiment.FRETefficiencies, bins=20, range=(0,1))\n",
    "bincenters = binMid = (bins[1:]+bins[:-1])/2"
   ]
  },
  {
   "cell_type": "code",
   "execution_count": 5,
   "id": "7106c72b",
   "metadata": {},
   "outputs": [],
   "source": [
    "model = lmfit.models.GaussianModel()\n",
    "pars = model.guess(hist, x=bincenters)\n",
    "out = model.fit(hist, pars, x=bincenters)\n",
    "x_fit = np.linspace(0,1,100)\n",
    "y_fit = model.func(x_fit, *list(out.params.valuesdict().values())[:3])"
   ]
  },
  {
   "cell_type": "code",
   "execution_count": 6,
   "id": "d6924f84",
   "metadata": {},
   "outputs": [
    {
     "data": {
      "image/png": "[encoded data removed]",
      "text/plain": [
       "<Figure size 180x144 with 1 Axes>"
      ]
     },
     "metadata": {
      "filenames": {
       "image/png": "/home/runner/work/fretlabel/fretlabel/docs/_build/jupyter_execute/getting_started/fret_prediction_10_0.png"
      }
     },
     "output_type": "display_data"
    }
   ],
   "source": [
    "with sns.axes_style('ticks'):\n",
    "    f, ax = plt.subplots(nrows=1, ncols=1, figsize=(2.5, 2), sharex=False, sharey=False, squeeze=False)\n",
    "    plt.hist(experiment.FRETefficiencies,bins=20, range=(0,1), color='grey', edgecolor='black')\n",
    "    plt.plot(x_fit, y_fit, color='k')\n",
    "    ax[0,0].set_xlabel('FRET')\n",
    "    ax[0,0].set_ylabel('occupancy')"
   ]
  },
  {
   "cell_type": "markdown",
   "id": "d581043e",
   "metadata": {},
   "source": [
    "Plot the **decay times** of the fluorescence emission and internal conversion for donor electrons after donor excitation and acceptor electrons upon acceptor excitation"
   ]
  },
  {
   "cell_type": "code",
   "execution_count": 7,
   "id": "dd5b4cd1",
   "metadata": {},
   "outputs": [
    {
     "data": {
      "image/png": "[encoded data removed]",
      "text/plain": [
       "<Figure size 432x144 with 2 Axes>"
      ]
     },
     "metadata": {
      "filenames": {
       "image/png": "/home/runner/work/fretlabel/fretlabel/docs/_build/jupyter_execute/getting_started/fret_prediction_12_0.png"
      }
     },
     "output_type": "display_data"
    }
   ],
   "source": [
    "with sns.axes_style('ticks'):\n",
    "    f, ax = plt.subplots(nrows=1, ncols=2, figsize=(6, 2), sharex=False, sharey=False, squeeze=False, gridspec_kw={'wspace':0.4})\n",
    "    ax[0,0].hist(experiment.decaytimes_DD_DA['D_ic'], bins=30, color='grey')\n",
    "    ax[0,0].hist(experiment.decaytimes_DD_DA['D_f'], bins=30, color='black')\n",
    "    ax[0,1].hist(experiment.decaytimes_AA['A_ic'], bins=30, color='grey')\n",
    "    ax[0,1].hist(experiment.decaytimes_AA['A_f'], bins=30, color='black')\n",
    "    \n",
    "    ax[0,0].legend(['internal conv.', 'fluorescence'], frameon=False)\n",
    "    ax[0,1].legend(['internal conv.', 'fluorescence'], frameon=False)\n",
    "    ax[0,0].set_title('$\\mathregular{I_{D|D}}$')\n",
    "    ax[0,1].set_title('$\\mathregular{I_{A|A}}$')\n",
    "    ax[0,0].set_ylabel('intensity')\n",
    "    ax[0,0].set_xlabel('time (ns)')\n",
    "    ax[0,1].set_xlabel('time (ns)')"
   ]
  },
  {
   "cell_type": "markdown",
   "id": "cc89a370",
   "metadata": {},
   "source": [
    "Plot the **polarization resolved fluorescence decay** of the donor and the acceptor"
   ]
  },
  {
   "cell_type": "code",
   "execution_count": 8,
   "id": "d7a39dd3",
   "metadata": {},
   "outputs": [
    {
     "data": {
      "image/png": "[encoded data removed]",
      "text/plain": [
       "<Figure size 432x144 with 2 Axes>"
      ]
     },
     "metadata": {
      "filenames": {
       "image/png": "/home/runner/work/fretlabel/fretlabel/docs/_build/jupyter_execute/getting_started/fret_prediction_14_0.png"
      }
     },
     "output_type": "display_data"
    }
   ],
   "source": [
    "with sns.axes_style('ticks'):\n",
    "    f, ax = plt.subplots(nrows=1, ncols=2, figsize=(6, 2), sharex=False, sharey=False, squeeze=False, gridspec_kw={'wspace':0.4})\n",
    "    ax[0,0].semilogy(experiment.polIntensity['D_f'][:,0], experiment.polIntensity['D_f'][:,1], color='k')\n",
    "    ax[0,0].semilogy(experiment.polIntensity['D_f'][:,0], experiment.polIntensity['D_f'][:,2], color='grey')\n",
    "    ax[0,1].semilogy(experiment.polIntensity['A_f'][:,0], experiment.polIntensity['A_f'][:,1], color='k')\n",
    "    ax[0,1].semilogy(experiment.polIntensity['A_f'][:,0], experiment.polIntensity['A_f'][:,2], color='grey')\n",
    "    \n",
    "    ax[0,0].legend(['parallel (p)', 'orthogonal (s)'], frameon=False)\n",
    "    ax[0,1].legend(['parallel (p)', 'orthogonal (s)'], frameon=False)\n",
    "    ax[0,0].set_title('donor')\n",
    "    ax[0,1].set_title('acceptor')\n",
    "    ax[0,0].set_ylabel('intensity')\n",
    "    ax[0,0].set_xlabel('time (ns)')\n",
    "    ax[0,1].set_xlabel('time (ns)')\n",
    "    ax[0,0].set_xlim(-0.1,3)\n",
    "    ax[0,1].set_xlim(-0.1,8)"
   ]
  },
  {
   "cell_type": "markdown",
   "id": "c1f3853d",
   "metadata": {},
   "source": [
    "Plot the **anisotropy decay** of the donor and acceptor fluorophore"
   ]
  },
  {
   "cell_type": "code",
   "execution_count": 9,
   "id": "f9c70eb3",
   "metadata": {},
   "outputs": [
    {
     "data": {
      "image/png": "[encoded data removed]",
      "text/plain": [
       "<Figure size 432x144 with 2 Axes>"
      ]
     },
     "metadata": {
      "filenames": {
       "image/png": "/home/runner/work/fretlabel/fretlabel/docs/_build/jupyter_execute/getting_started/fret_prediction_16_0.png"
      }
     },
     "output_type": "display_data"
    }
   ],
   "source": [
    "with sns.axes_style('ticks'):\n",
    "    f, ax = plt.subplots(nrows=1, ncols=2, figsize=(6, 2), sharex=False, sharey=False, squeeze=False, gridspec_kw={'wspace':0.4})\n",
    "    ax[0,0].plot(experiment.anisotropy['D_f'][:,0], experiment.anisotropy['D_f'][:,1], '.', color='k')\n",
    "    ax[0,1].plot(experiment.anisotropy['A_f'][:,0], experiment.anisotropy['A_f'][:,1], '.', color='k')\n",
    "    ax[0,0].set_ylabel('anisotropy')\n",
    "    ax[0,0].set_xlabel('time (ns)')\n",
    "    ax[0,1].set_xlabel('time (ns)')\n",
    "    ax[0,0].set_title('donor')\n",
    "    ax[0,1].set_title('acceptor')\n",
    "    ax[0,0].set_xlim(0,3)\n",
    "    ax[0,1].set_xlim(0,8)"
   ]
  }
 ],
 "metadata": {
  "jupytext": {
   "formats": "ipynb,md:myst",
   "text_representation": {
    "extension": ".md",
    "format_name": "myst",
    "format_version": 0.13,
    "jupytext_version": "1.10.3"
   }
  },
  "kernelspec": {
   "display_name": "Python 3 (ipykernel)",
   "language": "python",
   "name": "python3"
  },
  "language_info": {
   "codemirror_mode": {
    "name": "ipython",
    "version": 3
   },
   "file_extension": ".py",
   "mimetype": "text/x-python",
   "name": "python",
   "nbconvert_exporter": "python",
   "pygments_lexer": "ipython3",
   "version": "3.9.13"
  },
  "source_map": [
   13,
   46,
   50,
   56,
   60,
   62,
   66,
   68,
   72,
   77,
   85,
   92,
   96,
   111,
   115,
   132,
   136
  ],
  "widgets": {
   "application/vnd.jupyter.widget-state+json": {
    "state": {
     "1315561f3d4a4ed89f2131f7d2767789": {
      "model_module": "@jupyter-widgets/controls",
      "model_module_version": "1.5.0",
      "model_name": "DescriptionStyleModel",
      "state": {
       "_model_module": "@jupyter-widgets/controls",
       "_model_module_version": "1.5.0",
       "_model_name": "DescriptionStyleModel",
       "_view_count": null,
       "_view_module": "@jupyter-widgets/base",
       "_view_module_version": "1.2.0",
       "_view_name": "StyleView",
       "description_width": ""
      }
     },
     "1568120c3a27400eaf138ecd2332c0a4": {
      "model_module": "@jupyter-widgets/controls",
      "model_module_version": "1.5.0",
      "model_name": "HBoxModel",
      "state": {
       "_dom_classes": [],
       "_model_module": "@jupyter-widgets/controls",
       "_model_module_version": "1.5.0",
       "_model_name": "HBoxModel",
       "_view_count": null,
       "_view_module": "@jupyter-widgets/controls",
       "_view_module_version": "1.5.0",
       "_view_name": "HBoxView",
       "box_style": "",
       "children": [
        "IPY_MODEL_7818bff1edc048baad688ac10e9e7363",
        "IPY_MODEL_f02e57d591974ecd8b2735fcc3383b2e",
        "IPY_MODEL_a97ad1ef7f49401d82f7a728bdcaa1e9"
       ],
       "layout": "IPY_MODEL_6ef92ab6b036409e88dafc8fdd1f5e7b"
      }
     },
     "16f6c4f01bf14db38b456a27d6f67efb": {
      "model_module": "@jupyter-widgets/base",
      "model_module_version": "1.2.0",
      "model_name": "LayoutModel",
      "state": {
       "_model_module": "@jupyter-widgets/base",
       "_model_module_version": "1.2.0",
       "_model_name": "LayoutModel",
       "_view_count": null,
       "_view_module": "@jupyter-widgets/base",
       "_view_module_version": "1.2.0",
       "_view_name": "LayoutView",
       "align_content": null,
       "align_items": null,
       "align_self": null,
       "border": null,
       "bottom": null,
       "display": null,
       "flex": null,
       "flex_flow": null,
       "grid_area": null,
       "grid_auto_columns": null,
       "grid_auto_flow": null,
       "grid_auto_rows": null,
       "grid_column": null,
       "grid_gap": null,
       "grid_row": null,
       "grid_template_areas": null,
       "grid_template_columns": null,
       "grid_template_rows": null,
       "height": null,
       "justify_content": null,
       "justify_items": null,
       "left": null,
       "margin": null,
       "max_height": null,
       "max_width": null,
       "min_height": null,
       "min_width": null,
       "object_fit": null,
       "object_position": null,
       "order": null,
       "overflow": null,
       "overflow_x": null,
       "overflow_y": null,
       "padding": null,
       "right": null,
       "top": null,
       "visibility": null,
       "width": null
      }
     },
     "40649d15d12f4e9eadaac9f94a6a70e1": {
      "model_module": "@jupyter-widgets/controls",
      "model_module_version": "1.5.0",
      "model_name": "DescriptionStyleModel",
      "state": {
       "_model_module": "@jupyter-widgets/controls",
       "_model_module_version": "1.5.0",
       "_model_name": "DescriptionStyleModel",
       "_view_count": null,
       "_view_module": "@jupyter-widgets/base",
       "_view_module_version": "1.2.0",
       "_view_name": "StyleView",
       "description_width": ""
      }
     },
     "43e4ed236ce04425bbbe0279cf177af4": {
      "model_module": "@jupyter-widgets/controls",
      "model_module_version": "1.5.0",
      "model_name": "ProgressStyleModel",
      "state": {
       "_model_module": "@jupyter-widgets/controls",
       "_model_module_version": "1.5.0",
       "_model_name": "ProgressStyleModel",
       "_view_count": null,
       "_view_module": "@jupyter-widgets/base",
       "_view_module_version": "1.2.0",
       "_view_name": "StyleView",
       "bar_color": null,
       "description_width": ""
      }
     },
     "5928481577274986931e3988ec221877": {
      "model_module": "@jupyter-widgets/base",
      "model_module_version": "1.2.0",
      "model_name": "LayoutModel",
      "state": {
       "_model_module": "@jupyter-widgets/base",
       "_model_module_version": "1.2.0",
       "_model_name": "LayoutModel",
       "_view_count": null,
       "_view_module": "@jupyter-widgets/base",
       "_view_module_version": "1.2.0",
       "_view_name": "LayoutView",
       "align_content": null,
       "align_items": null,
       "align_self": null,
       "border": null,
       "bottom": null,
       "display": null,
       "flex": null,
       "flex_flow": null,
       "grid_area": null,
       "grid_auto_columns": null,
       "grid_auto_flow": null,
       "grid_auto_rows": null,
       "grid_column": null,
       "grid_gap": null,
       "grid_row": null,
       "grid_template_areas": null,
       "grid_template_columns": null,
       "grid_template_rows": null,
       "height": null,
       "justify_content": null,
       "justify_items": null,
       "left": null,
       "margin": null,
       "max_height": null,
       "max_width": null,
       "min_height": null,
       "min_width": null,
       "object_fit": null,
       "object_position": null,
       "order": null,
       "overflow": null,
       "overflow_x": null,
       "overflow_y": null,
       "padding": null,
       "right": null,
       "top": null,
       "visibility": null,
       "width": null
      }
     },
     "6ef92ab6b036409e88dafc8fdd1f5e7b": {
      "model_module": "@jupyter-widgets/base",
      "model_module_version": "1.2.0",
      "model_name": "LayoutModel",
      "state": {
       "_model_module": "@jupyter-widgets/base",
       "_model_module_version": "1.2.0",
       "_model_name": "LayoutModel",
       "_view_count": null,
       "_view_module": "@jupyter-widgets/base",
       "_view_module_version": "1.2.0",
       "_view_name": "LayoutView",
       "align_content": null,
       "align_items": null,
       "align_self": null,
       "border": null,
       "bottom": null,
       "display": null,
       "flex": null,
       "flex_flow": null,
       "grid_area": null,
       "grid_auto_columns": null,
       "grid_auto_flow": null,
       "grid_auto_rows": null,
       "grid_column": null,
       "grid_gap": null,
       "grid_row": null,
       "grid_template_areas": null,
       "grid_template_columns": null,
       "grid_template_rows": null,
       "height": null,
       "justify_content": null,
       "justify_items": null,
       "left": null,
       "margin": null,
       "max_height": null,
       "max_width": null,
       "min_height": null,
       "min_width": null,
       "object_fit": null,
       "object_position": null,
       "order": null,
       "overflow": null,
       "overflow_x": null,
       "overflow_y": null,
       "padding": null,
       "right": null,
       "top": null,
       "visibility": null,
       "width": null
      }
     },
     "7818bff1edc048baad688ac10e9e7363": {
      "model_module": "@jupyter-widgets/controls",
      "model_module_version": "1.5.0",
      "model_name": "HTMLModel",
      "state": {
       "_dom_classes": [],
       "_model_module": "@jupyter-widgets/controls",
       "_model_module_version": "1.5.0",
       "_model_name": "HTMLModel",
       "_view_count": null,
       "_view_module": "@jupyter-widgets/controls",
       "_view_module_version": "1.5.0",
       "_view_name": "HTMLView",
       "description": "",
       "description_tooltip": null,
       "layout": "IPY_MODEL_e49e8f2f68a04d4380ff39a595a22942",
       "placeholder": "​",
       "style": "IPY_MODEL_40649d15d12f4e9eadaac9f94a6a70e1",
       "value": "Calculating bursts: 100%"
      }
     },
     "a97ad1ef7f49401d82f7a728bdcaa1e9": {
      "model_module": "@jupyter-widgets/controls",
      "model_module_version": "1.5.0",
      "model_name": "HTMLModel",
      "state": {
       "_dom_classes": [],
       "_model_module": "@jupyter-widgets/controls",
       "_model_module_version": "1.5.0",
       "_model_name": "HTMLModel",
       "_view_count": null,
       "_view_module": "@jupyter-widgets/controls",
       "_view_module_version": "1.5.0",
       "_view_name": "HTMLView",
       "description": "",
       "description_tooltip": null,
       "layout": "IPY_MODEL_5928481577274986931e3988ec221877",
       "placeholder": "​",
       "style": "IPY_MODEL_1315561f3d4a4ed89f2131f7d2767789",
       "value": " 2000/2000 [00:00 s]"
      }
     },
     "e49e8f2f68a04d4380ff39a595a22942": {
      "model_module": "@jupyter-widgets/base",
      "model_module_version": "1.2.0",
      "model_name": "LayoutModel",
      "state": {
       "_model_module": "@jupyter-widgets/base",
       "_model_module_version": "1.2.0",
       "_model_name": "LayoutModel",
       "_view_count": null,
       "_view_module": "@jupyter-widgets/base",
       "_view_module_version": "1.2.0",
       "_view_name": "LayoutView",
       "align_content": null,
       "align_items": null,
       "align_self": null,
       "border": null,
       "bottom": null,
       "display": null,
       "flex": null,
       "flex_flow": null,
       "grid_area": null,
       "grid_auto_columns": null,
       "grid_auto_flow": null,
       "grid_auto_rows": null,
       "grid_column": null,
       "grid_gap": null,
       "grid_row": null,
       "grid_template_areas": null,
       "grid_template_columns": null,
       "grid_template_rows": null,
       "height": null,
       "justify_content": null,
       "justify_items": null,
       "left": null,
       "margin": null,
       "max_height": null,
       "max_width": null,
       "min_height": null,
       "min_width": null,
       "object_fit": null,
       "object_position": null,
       "order": null,
       "overflow": null,
       "overflow_x": null,
       "overflow_y": null,
       "padding": null,
       "right": null,
       "top": null,
       "visibility": null,
       "width": null
      }
     },
     "f02e57d591974ecd8b2735fcc3383b2e": {
      "model_module": "@jupyter-widgets/controls",
      "model_module_version": "1.5.0",
      "model_name": "FloatProgressModel",
      "state": {
       "_dom_classes": [],
       "_model_module": "@jupyter-widgets/controls",
       "_model_module_version": "1.5.0",
       "_model_name": "FloatProgressModel",
       "_view_count": null,
       "_view_module": "@jupyter-widgets/controls",
       "_view_module_version": "1.5.0",
       "_view_name": "ProgressView",
       "bar_style": "success",
       "description": "",
       "description_tooltip": null,
       "layout": "IPY_MODEL_16f6c4f01bf14db38b456a27d6f67efb",
       "max": 2000.0,
       "min": 0.0,
       "orientation": "horizontal",
       "style": "IPY_MODEL_43e4ed236ce04425bbbe0279cf177af4",
       "value": 2000.0
      }
     }
    },
    "version_major": 2,
    "version_minor": 0
   }
  }
 },
 "nbformat": 4,
 "nbformat_minor": 5
}