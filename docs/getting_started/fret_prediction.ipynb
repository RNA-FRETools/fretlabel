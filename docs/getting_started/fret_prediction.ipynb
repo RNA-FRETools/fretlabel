{
 "cells": [
  {
   "cell_type": "markdown",
   "id": "1518d219",
   "metadata": {},
   "source": [
    "# Integration with *FRETraj*\n",
    "\n",
    "This tutorial demonstrates how to perform an *in silico* FRET experiment on the basis of an MD simulation with a pair of donor and acceptor fluorophores. \n",
    "\n",
    "### Preparation - Extraction of $R(t)$ and $\\kappa ^2(t)$\n",
    "Built-in GROMACS tools can be used to extract the interdye-distance $R_\\text{DA}$ and the orientation factor $\\kappa ^2$.\n",
    "\n",
    "First, define the dipole vector by an atom pair for each of the two dyes. You may either select the atoms based on their indices with `gmx make_ndx` or more expressively by reading in an atom selection with `gmx select`.\n",
    "\n",
    "Save the following to a text file named *dye_selection.txt* (here atom names C2 and C14 define the dipole vector of the dye residues C3W and C5W)\n",
    "```\n",
    "\"Cy3_C2C14\" resname C3W and (name C2 or name C14)\n",
    "\"Cy5_C2C14\" resname C5W and (name C2 or name C14)\n",
    "```\n",
    "\n",
    "Then run `gmx select` on a reference pdb file to get a new index file called *dyes.ndx*\n",
    "```\n",
    "gmx select -s DNA.pdb -on dyes.ndx < dye_selection.txt\n",
    "```\n",
    "\n",
    "Now, extract $R_{DA}$ and $\\kappa ^2$ using `gmx dyecoupl` (Hoefling et al., *Comput. Phys. Commun.* **2013**) which is built into GROMACS. \n",
    "\n",
    "```\n",
    "gmx dyecoupl -f DNA.xtc -n dyes.ndx -o DNA_rkappa.dat\n",
    "```\n",
    "\n",
    "To calculate **anisotropy decays** also extract the coordinates of the atoms defining the dipole vector\n",
    "\n",
    "```\n",
    "gmx traj -f DNA.xtc -s DNA.pdb -n dyes.ndx -ox DNA_donor_coords.xvg\n",
    "gmx traj -f DNA.xtc -s DNA.pdb -n dyes.ndx -ox DNA_acceptor_coords.xvg\n",
    "```"
   ]
  },
  {
   "cell_type": "markdown",
   "id": "b8776ae6",
   "metadata": {},
   "source": [
    "### FRET experiment with *Fluorburst*"
   ]
  },
  {
   "cell_type": "code",
   "execution_count": null,
   "id": "01ed28e6",
   "metadata": {},
   "outputs": [],
   "source": [
    "import fluordynamics as fd\n",
    "import numpy as np\n",
    "import matplotlib.pyplot as plt\n",
    "import seaborn as sns\n",
    "import lmfit"
   ]
  },
  {
   "cell_type": "markdown",
   "id": "21d51730",
   "metadata": {},
   "source": [
    "The parameter file *DNA_parameters.json* defines bursts settings, the experimental inputs (fluorescence lifetime, quantum yields) and the file paths.\n",
    "Once defined, read in the parameters and initialize an experiment (including calculating the time-resolved anisotropy)"
   ]
  },
  {
   "cell_type": "code",
   "execution_count": null,
   "id": "e0b2b3bd",
   "metadata": {},
   "outputs": [],
   "source": [
    "parameters = fd.fluorburst.readParameters('trajectory_examples/DNA_parameters.json')"
   ]
  },
  {
   "cell_type": "code",
   "execution_count": null,
   "id": "8bcf61e9",
   "metadata": {},
   "outputs": [],
   "source": [
    "experiment = fd.fluorburst.Experiment('trajectory_examples', parameters, compute_anisotropy=True)"
   ]
  },
  {
   "cell_type": "markdown",
   "id": "008346a5",
   "metadata": {},
   "source": [
    "If desired the experiment can be saved to disk. Setting `remove_burst=True` excludes the individual bursts."
   ]
  },
  {
   "cell_type": "code",
   "execution_count": null,
   "id": "5f41e26f",
   "metadata": {},
   "outputs": [],
   "source": [
    "experiment.save('trajectory_examples/dna', remove_bursts=False)"
   ]
  },
  {
   "cell_type": "markdown",
   "id": "b9b5a6f5",
   "metadata": {},
   "source": [
    "Plot the FRET distribution and fit a normal distribution to the data."
   ]
  },
  {
   "cell_type": "code",
   "execution_count": null,
   "id": "831741bf",
   "metadata": {},
   "outputs": [],
   "source": [
    "hist, bins = np.histogram(experiment.FRETefficiencies, bins=20, range=(0,1))\n",
    "bincenters = binMid = (bins[1:]+bins[:-1])/2"
   ]
  },
  {
   "cell_type": "code",
   "execution_count": null,
   "id": "2b2531a1",
   "metadata": {},
   "outputs": [],
   "source": [
    "mod = lmfit.models.GaussianModel()\n",
    "pars = mod.guess(hist, x=bincenters)\n",
    "out = mod.fit(hist, pars, x=bincenters)\n",
    "x_fit = np.linspace(0,1,100)\n",
    "y_fit = mod.func(x_fit, *list(out.params.valuesdict().values())[:3])"
   ]
  },
  {
   "cell_type": "code",
   "execution_count": null,
   "id": "a694f296",
   "metadata": {},
   "outputs": [],
   "source": [
    "with sns.axes_style('ticks'):\n",
    "    f, ax = plt.subplots(nrows=1, ncols=1, figsize=(2.5, 2), sharex=False, sharey=False, squeeze=False)\n",
    "    plt.hist(experiment.FRETefficiencies,bins=20, range=(0,1), color='grey', edgecolor='black')\n",
    "    plt.plot(x_fit, y_fit, color='k')\n",
    "    ax[0,0].set_xlabel('FRET')\n",
    "    ax[0,0].set_ylabel('occupancy')"
   ]
  },
  {
   "cell_type": "markdown",
   "id": "ce154b3a",
   "metadata": {},
   "source": [
    "Plot the decay times by fluorescence emission and internal conversion for donor electrons after donor excitation and acceptor electrons upon acceptor excitation"
   ]
  },
  {
   "cell_type": "code",
   "execution_count": null,
   "id": "f70e364a",
   "metadata": {},
   "outputs": [],
   "source": [
    "with sns.axes_style('ticks'):\n",
    "    f, ax = plt.subplots(nrows=1, ncols=2, figsize=(6, 2), sharex=False, sharey=False, squeeze=False, gridspec_kw={'wspace':0.4})\n",
    "    ax[0,0].hist(experiment.decaytimes_DD_DA['D_ic'], bins=30, color='grey')\n",
    "    ax[0,0].hist(experiment.decaytimes_DD_DA['D_p'], bins=30, color='black')\n",
    "    ax[0,1].hist(experiment.decaytimes_AA['A_ic'], bins=30, color='grey')\n",
    "    ax[0,1].hist(experiment.decaytimes_AA['A_p'], bins=30, color='black')\n",
    "    \n",
    "    ax[0,0].legend(['internal conv.', 'fluorescence'], frameon=False)\n",
    "    ax[0,1].legend(['internal conv.', 'fluorescence'], frameon=False)\n",
    "    ax[0,0].set_title('$\\mathregular{I_{D|D}}$')\n",
    "    ax[0,1].set_title('$\\mathregular{I_{A|A}}$')\n",
    "    ax[0,0].set_ylabel('intensity')\n",
    "    ax[0,0].set_xlabel('time (ns)')\n",
    "    ax[0,1].set_xlabel('time (ns)')"
   ]
  },
  {
   "cell_type": "markdown",
   "id": "f0f1ec0b",
   "metadata": {},
   "source": [
    "Plot the plolarization resolved fluorescence decay of the donor and the acceptor"
   ]
  },
  {
   "cell_type": "code",
   "execution_count": null,
   "id": "9134a259",
   "metadata": {},
   "outputs": [],
   "source": [
    "with sns.axes_style('ticks'):\n",
    "    f, ax = plt.subplots(nrows=1, ncols=2, figsize=(6, 2), sharex=False, sharey=False, squeeze=False, gridspec_kw={'wspace':0.4})\n",
    "    ax[0,0].semilogy(experiment.polIntensity['D_p'][:,0], experiment.polIntensity['D_p'][:,1], color='k')\n",
    "    ax[0,0].semilogy(experiment.polIntensity['D_p'][:,0], experiment.polIntensity['D_p'][:,2], color='grey')\n",
    "    ax[0,1].semilogy(experiment.polIntensity['A_p'][:,0], experiment.polIntensity['A_p'][:,1], color='k')\n",
    "    ax[0,1].semilogy(experiment.polIntensity['A_p'][:,0], experiment.polIntensity['A_p'][:,2], color='grey')\n",
    "    \n",
    "    ax[0,0].legend(['parallel (p)', 'orthogonal (s)'], frameon=False)\n",
    "    ax[0,1].legend(['parallel (p)', 'orthogonal (s)'], frameon=False)\n",
    "    ax[0,0].set_title('donor')\n",
    "    ax[0,1].set_title('acceptor')\n",
    "    ax[0,0].set_ylabel('intensity')\n",
    "    ax[0,0].set_xlabel('time (ns)')\n",
    "    ax[0,1].set_xlabel('time (ns)')\n",
    "    ax[0,0].set_xlim(-0.1,3)\n",
    "    ax[0,1].set_xlim(-0.1,8)"
   ]
  },
  {
   "cell_type": "markdown",
   "id": "47c1f5a1",
   "metadata": {},
   "source": [
    "Plot the anisotropy decay of the donor and acceptor fluorophore"
   ]
  },
  {
   "cell_type": "code",
   "execution_count": null,
   "id": "d4d20638",
   "metadata": {},
   "outputs": [],
   "source": [
    "with sns.axes_style('ticks'):\n",
    "    f, ax = plt.subplots(nrows=1, ncols=2, figsize=(6, 2), sharex=False, sharey=False, squeeze=False, gridspec_kw={'wspace':0.4})\n",
    "    ax[0,0].plot(experiment.anisotropy['D_p'][:,0], experiment.anisotropy['D_p'][:,1], '.', color='k')\n",
    "    ax[0,1].plot(experiment.anisotropy['A_p'][:,0], experiment.anisotropy['A_p'][:,1], '.', color='k')\n",
    "    ax[0,0].set_ylabel('anisotropy')\n",
    "    ax[0,0].set_xlabel('time (ns)')\n",
    "    ax[0,1].set_xlabel('time (ns)')\n",
    "    ax[0,0].set_title('donor')\n",
    "    ax[0,1].set_title('acceptor')\n",
    "    ax[0,0].set_xlim(0,3)\n",
    "    ax[0,1].set_xlim(0,8)"
   ]
  },
  {
   "cell_type": "code",
   "execution_count": null,
   "id": "f695ea1a",
   "metadata": {},
   "outputs": [],
   "source": []
  }
 ],
 "metadata": {
  "jupytext": {
   "formats": "ipynb,md:myst",
   "text_representation": {
    "extension": ".md",
    "format_name": "markdown",
    "format_version": "1.3",
    "jupytext_version": "1.10.3"
   }
  },
  "kernelspec": {
   "display_name": "Python 3 (ipykernel)",
   "language": "python",
   "name": "python3"
  },
  "language_info": {
   "codemirror_mode": {
    "name": "ipython",
    "version": 3
   },
   "file_extension": ".py",
   "mimetype": "text/x-python",
   "name": "python",
   "nbconvert_exporter": "python",
   "pygments_lexer": "ipython3",
   "version": "3.9.7"
  }
 },
 "nbformat": 4,
 "nbformat_minor": 5
}
