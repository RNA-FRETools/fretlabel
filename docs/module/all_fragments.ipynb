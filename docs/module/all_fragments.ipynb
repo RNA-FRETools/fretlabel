{
 "cells": [
  {
   "cell_type": "markdown",
   "id": "f68280e9",
   "metadata": {},
   "source": [
    "# Deriving FRETlabel fragments\n",
    "\n",
    "This notebook describes the derivation of all base-linker fragments currently available in *FRETlabel* (A step-wise tutorial for dT-C5-Cy3 is available [here](../getting_started/fragment_building.md)). Before starting make sure that the **mol2** files of the nucleotides have the correct partial charges assigned. See [this](partial_charges_to_mol2.md) notebook for instructions.\n",
    "\n",
    "```{admonition} Pre-generated parameters in *FRETlabel* on Github\n",
    "- RNA and DNA nucleotides with correct partial charges are located in `fragments/1_bases/processed/`\n",
    "- Linkers for [selected labeling chemistries](../background/labeling_chemistry.md) are located in `fragments/2_linkers`\n",
    "- Dyes from AMBER-DYES are located in `fragments/3_dyes/` (in Tripos mol2 format)\n",
    "- base_linker generated herein are located in `fragments/4_base_linker/`\n",
    "- Generated acpype output files are located in `fragments/5_acpype/`\n",
    "- force field parameters from AMBER-DYES are located in `forcefields/2_amberdyes`\n",
    "- bonded and nonbonded parameters from AMBER-14 are located in `forcefields/3_amber14sb`\n",
    "- generated force field parameters for fretlabel are located in `forcefields/4_fretlabel`\n",
    "```"
   ]
  },
  {
   "cell_type": "code",
   "execution_count": 1,
   "id": "ab47fefc",
   "metadata": {},
   "outputs": [],
   "source": [
    "import pandas as pd\n",
    "from biopandas.mol2 import PandasMol2\n",
    "import pathlib\n",
    "import fretlabel as fl"
   ]
  },
  {
   "cell_type": "code",
   "execution_count": 4,
   "id": "6ed90b3e",
   "metadata": {},
   "outputs": [
    {
     "name": "stdout",
     "output_type": "stream",
     "text": [
      "C:\\Users\\fsteffen\\Github\\fretlabel\n"
     ]
    }
   ],
   "source": [
    "cd ../../"
   ]
  },
  {
   "cell_type": "markdown",
   "id": "ce59765c",
   "metadata": {},
   "source": [
    "## 1. Internal labeling fragments\n",
    "### 1.1 Internal Labeling on C5 of deoxythymidine\n",
    "\n",
    "#### 1.1.1 Geometry optimization\n",
    "\n",
    "Create Gaussian input file\n",
    "```sh\n",
    "name=MLE_capped\n",
    "input_folder='in/'\n",
    "output_folder='out/'\n",
    "\n",
    "cd fragments/linkers/MLE/\n",
    "antechamber -i \"$input_folder/$name\".mol2 -fi mol2 -o \"$output_folder/$name\".gin -fo gcrt -gv 1 -ge \"$output_folder/$name\".gesp -ch \"$output_folder/$name\"_opt -nc 0\n",
    "```\n",
    "\n",
    "Gaussian geometry optimization and ESP calculation\n",
    "```sh\n",
    "nproc=12\n",
    "sed 's/#HF.*/\\#P b3lyp\\/6-31G\\* Opt/g' < \"$output_folder/$name\".gin | sed '/iop/d' | sed '/.*gesp/d' | sed \"/--Link1--/ a %nproc=$nproc\" > \"$output_folder/$name\"_b3lyp_opt.gin\n",
    "sed '/^[[:space:]]*[A-Z]/d' < \"$output_folder/$name\".gin | sed 's/SCF/Geom=check SCF/g'| sed 's/\\(\\%chk=.*\\)opt/\\1esp/g' | sed \"/--Link1--/ a %nproc=$nproc\" > \"$output_folder/$name\"_hf_esp.gin\n",
    "g09 < \"$output_folder/$name\"_b3lyp_opt.gin > \"$output_folder/$name\"_b3lyp_opt.gout && cp \"$output_folder/$name\"_opt.chk \"$output_folder/$name\"_esp.chk\n",
    "g09 < \"$output_folder/$name\"_hf_esp.gin > \"$output_folder/$name\"_hf_esp.gout\n",
    "```\n",
    "\n",
    "#### 1.1.2 Partial charge fitting with RESP\n",
    "\n",
    "```sh\n",
    "antechamber -i \"$input_folder/$name\".mol2 -fi mol2 -o \"$output_folder/$name\".ac -fo ac -pf yes -nc 0\n",
    "\n",
    "capping_group=MLE_capping_groups.dat\n",
    "\n",
    "n_atom=`awk '$1 == \"GROUP\" {print $2}' \"$input_folder/$capping_group\"`\n",
    "group_constraint=`awk '$1 == \"GROUP\" {print $3}' \"$input_folder/$capping_group\"`\n",
    "\n",
    "respgen -i \"$output_folder/$name\".ac -o \"$output_folder/$name\".respin1 -f resp1 -a \"$input_folder/$capping_group\"\n",
    "respgen -i \"$output_folder/$name\".ac -o \"$output_folder/$name\".respin2 -f resp2 -a \"$input_folder/$capping_group\"\n",
    "```\n",
    "\n",
    "since respgen rounds the group constraint to three decimals replace it with the value from the capping group\n",
    "```sh\n",
    "for i in `seq $(echo $n_atom | wc -w)`;do\n",
    "    atom=`echo $n_atom | cut -f$i -d' '`\n",
    "    group=`echo $group_constraint | cut -f$i -d' '`\n",
    "    sed -z -i \"s/$atom\\s*-*\\w\\.\\w*$p/$atom  $group/$i\" \"$output_folder/$name\".respin1\n",
    "    sed -z -i \"s/$atom\\s*-*\\w\\.\\w*$p/$atom  $group/$i\" \"$output_folder/$name\".respin2\n",
    "done\n",
    "\n",
    "espgen -i \"$output_folder/$name\"_hf_esp.gout -o \"$output_folder/$name\"_hf_esp.esp\n",
    "mv QIN \"$output_folder\"/\n",
    "\n",
    "resp -O -i \"$output_folder/$name\".respin1 -o \"$output_folder/$name\".respout1 -e \"$output_folder/$name\"_hf_esp.esp -q  \"$output_folder\"/QIN -t \"$output_folder\"/qout_stage1 -p \"$output_folder\"/punch1 -s \"$output_folder\"/esout1\n",
    "resp -O -i \"$output_folder/$name\".respin2 -o \"$output_folder/$name\".respout2 -e \"$output_folder/$name\"_hf_esp.esp -q \"$output_folder\"/qout_stage1 -t \"$output_folder\"/qout_stage2 -p \"$output_folder\"/punch2 -s \"$output_folder\"/esout2\n",
    "\n",
    "antechamber -i \"$output_folder/$name\".ac -fi ac -o \"$output_folder/$name\"_resp.mol2 -fo mol2 -c rc -cf \"$output_folder\"/qout_stage2 -pf yes -at amber\n",
    "```\n",
    "\n",
    "````{tip}\n",
    "The above two-stage RESP fitting protocol is wrapped in the following script:\n",
    "\n",
    "```\n",
    "resp_fit.sh -n MLE_capped -i 'in/' -o 'out/' -g MLE_capping_groups.dat -c 0\n",
    "```\n",
    "````\n",
    "\n",
    "\n",
    "#### 1.1.3 Coupling to base and dye\n",
    "Open PyMOL and couple the deoxythymine base and the MLE linker by executing the following from the PymOL command prompt\n",
    "\n",
    "```python\n",
    "names_methylene = ['C7','H01','H02']\n",
    "\n",
    "base_resn = ('deoxythymidine', 'DTM')\n",
    "#base_resn = ('oxythymidine', 'RUM')\n",
    "\n",
    "cmd.reinitialize()\n",
    "cmd.load('fragments/1_bases/out/{}.mol2'.format(base_resn[0]))\n",
    "cmd.load('fragments/2_linkers/MLE/out/MLE_capped_resp.mol2')\n",
    "cmd.remove('MLE_capped_resp and name {}'.format('+'.join(str(i) for i in names_methylene)))\n",
    "cmd.remove('{} and (name H71 or name H72)'.format(base_resn[0]))\n",
    "cmd.fuse('{} and name C7'.format(base_resn[0]), 'MLE_capped_resp and name C8 and resn MLE')\n",
    "cmd.delete('{}'.format(base_resn[0]))\n",
    "cmd.alter('all', 'type=\"ATOM\"')\n",
    "cmd.alter('all', 'elem=\"\"') # PyMOL struggles with atom type definitions in mol2 files, therefore let PyMOL guess the elements itself\n",
    "cmd.set_name('MLE_capped_resp', base_resn[1])\n",
    "cmd.set_title(base_resn[1],1,base_resn[1])\n",
    "cmd.unbond('resn {} and name C8'.format(base_resn[1]), 'resn DT and name C7')\n",
    "cmd.bond('resn {} and name C8'.format(base_resn[1]), 'resn DT and name C7', 2)\n",
    "\n",
    "import fretlabel as fl\n",
    "fl.ff.pymol_savemol2(f'fragments/4_base_linkers/{base_resn[1]}.mol2', base_resn[1], overwrite=True)\n",
    "```"
   ]
  },
  {
   "cell_type": "markdown",
   "id": "eb806601",
   "metadata": {
    "lines_to_next_cell": 0
   },
   "source": [
    "Check the correct charge"
   ]
  },
  {
   "cell_type": "code",
   "execution_count": 5,
   "id": "0eef19d6",
   "metadata": {},
   "outputs": [
    {
     "name": "stdout",
     "output_type": "stream",
     "text": [
      "Check passed!\n"
     ]
    }
   ],
   "source": [
    "base_resn = ('deoxythymidine', 'DTM')\n",
    "#base_resn = ('oxythymidine', 'RUM')\n",
    "fl.ff.check_charge(f'fragments/4_base_linkers/{base_resn[1]}.mol2', -1)"
   ]
  },
  {
   "cell_type": "markdown",
   "id": "33b9b9f6",
   "metadata": {},
   "source": [
    "Now, add the fluorophore in PyMOL"
   ]
  },
  {
   "cell_type": "markdown",
   "id": "260bea2b",
   "metadata": {},
   "source": [
    "```python\n",
    "# execute a multiline statement in the PyMOL command shell\n",
    "python  \n",
    "dyes = [('sCy3', 'C3W'), ('sCy5', 'C5W'), ('Cy7', 'C7N'), ('Cy5.5', 'C55'), ('Cy7.5','C75'), \n",
    "        ('Alexa350', 'A35'), ('Alexa488', 'A48'), ('Alexa532', 'A53'), ('Alexa568', 'A56'), \n",
    "        ('Alexa594', 'A59'), ('Alexa647', 'A64'), ('Atto390', 'T39'), ('Atto425', 'T42'), \n",
    "        ('Atto465', 'T46'), ('Atto488', 'T48'), ('Atto495', 'T49'), ('Atto514', 'T51'), \n",
    "        ('Atto520', 'T52'), ('Atto610', 'T61')]\n",
    "\n",
    "base_resn_list = [('deoxythymidine', 'DTM'),('oxythymidine', 'RUM')]\n",
    "for base_resn in base_resn_list:\n",
    "    for name,dye in dyes:\n",
    "        fl.ff.pymol_couple_dye2baselinker(f'fragments/3_dyes/{dye}.mol2', \n",
    "                                          f'fragments/4_base_linkers/{base_resn[1]}.mol2', \n",
    "                                          'C99', ['C17', 'O98', 'C16'],\n",
    "                                          ['O98', 'C16', 'C17', 'H95', 'H96', 'H97'])\n",
    "        cmd.alter('all', 'elem=\"\"')\n",
    "        fl.ff.pymol_save_molecule('src/fretlabel/dyes/test/{}_{}.pdb'.format(dye, base_resn[1]), \n",
    "                                  '{}_{}'.format(dye, base_resn[1]), 'pdb', overwrite=True)\n",
    "        fl.ff.update_dye_library({'filename':'{}_{}'.format(dye, base_resn[1]), 'dye':name, \n",
    "                                  'base':base_resn[1][0:2], 'linker':'MLE', 'chemistry':'U/dT-C5',\n",
    "                                  'position':'internal'}, \n",
    "                                 'src/fretlabel/dye_library.json',\n",
    "                                 'src/fretlabel/dye_library.json', \n",
    "                                 overwrite=True)\n",
    "python end\n",
    "```"
   ]
  },
  {
   "cell_type": "markdown",
   "id": "6ef87e04-5ded-4f80-b674-50f3e295a173",
   "metadata": {},
   "source": [
    "### 1.2 Internal labeling via ethenoadenine or ethenocytosine\n",
    "\n",
    "#### 1.2.1 Geometry optimization\n",
    "\n",
    "Same as for deoxythymine (MLE) but with `name=ETH_capped`\n",
    "\n",
    "#### 1.2.2 Partial charge fitting with RESP\n",
    "\n",
    "```{admonition} Rational for linker RESP charge derivation at internal ethenoadenine / ethenocytosine\n",
    "The amino capping groups of the linker (which will be removed) are constrained to the partial charge of H61+H62 (adenosine/deoxyadenosine) or H41+H42 (cytidine/deoxycytidine) (e.g. for deoxyadenosine 2\\*(-0.4167)= **-0.8334**). Thus for deoxyadenosine the linker will be 0-(-0.8334)=**0.8334** which compensates the missing H61/N62 or H41/N42 in the ethenoadenosine / ethenocytidine.\n",
    "```\n",
    "\n",
    "In general the same as for deoxythymine (MLE). For RESP use:\n",
    "\n",
    "```sh\n",
    "resp_fit.sh -n ETH_capped -i 'in/' -o 'out/' -g ETH_capping_groups_adenine_DNA.dat -c 0\n",
    "resp_fit.sh -n ETH_capped -i 'in/' -o 'out/' -g ETH_capping_groups_cytosine_DNA.dat -c 0\n",
    "resp_fit.sh -n ETH_capped -i 'in/' -o 'out/' -g ETH_capping_groups_adenine_RNA.dat -c 0\n",
    "resp_fit.sh -n ETH_capped -i 'in/' -o 'out/' -g ETH_capping_groups_cytosine_RNA.dat -c 0\n",
    "```"
   ]
  },
  {
   "cell_type": "markdown",
   "id": "b652c8c2-f5a2-4f31-9228-b0bc880ff34a",
   "metadata": {},
   "source": [
    "#### 1.2.3 Coupling to base and dye\n",
    "Open PyMOL and executing the following from the PymOL command prompt\n",
    "\n",
    "```python\n",
    "names_amine = ['N1','N6','H11','H12','H61','H62']\n",
    "\n",
    "base_resn = ('deoxyadenosine', 'DAE')\n",
    "#base_resn = ('deoxycytidine', 'DCE')\n",
    "#base_resn = ('adenosine', 'RAE')\n",
    "#base_resn = ('cytidine', 'RCE')\n",
    "\n",
    "cmd.reinitialize()\n",
    "cmd.load('fragments/bases/out/{}.mol2'.format(base_resn[0]))\n",
    "\n",
    "if 'A' in base_resn[1]:\n",
    "    cmd.load('fragments/linkers/ETH/out/ETH_capped_resp_{}.mol2'.format(base_resn[0]))\n",
    "    cmd.pair_fit('ETH_capped_resp and name N1','{} and name N1'.format(base_resn[0]), \n",
    "                 'ETH_capped_resp and name N6', '{} and name N6'.format(base_resn[0]),\n",
    "                 'ETH_capped_resp and name H11', '{} and name C2'.format(base_resn[0]))\n",
    "else:\n",
    "    cmd.load('fragments/linkers/ETH/out/ETH_capped_resp_{}.mol2'.format(base_resn[0]))\n",
    "    cmd.pair_fit('ETH_capped_resp and name N1','{} and name N3'.format(base_resn[0]), \n",
    "                 'ETH_capped_resp and name N6', '{} and name N4'.format(base_resn[0]),\n",
    "                 'ETH_capped_resp and name H11', '{} and name C2'.format(base_resn[0]))\n",
    "    \n",
    "cmd.remove('ETH_capped_resp and name {}'.format('+'.join(str(i) for i in names_amine)))\n",
    "if 'A' in base_resn[1]:\n",
    "    cmd.remove('{} and (name H61 or name H62)'.format(base_resn[0]))\n",
    "    cmd.remove('{} and name H61'.format(base_resn[0]))\n",
    "    cmd.unbond('{} and name C6'.format(base_resn[0]), '{} and name N6'.format(base_resn[0]))\n",
    "    cmd.bond('{} and name C6'.format(base_resn[0]), '{} and name N6'.format(base_resn[0]), 2)\n",
    "    cmd.unbond('{} and name C6'.format(base_resn[0]), '{} and name N1'.format(base_resn[0]))\n",
    "    cmd.bond('{} and name C6'.format(base_resn[0]), '{} and name N1'.format(base_resn[0]), 1)\n",
    "else:\n",
    "    cmd.remove('{} and (name H41 or name H42)'.format(base_resn[0]))\n",
    "    cmd.unbond('{} and name C4'.format(base_resn[0]), '{} and name N4'.format(base_resn[0]))\n",
    "    cmd.bond('{} and name C4'.format(base_resn[0]), '{} and name N4'.format(base_resn[0]), 2)\n",
    "    cmd.unbond('{} and name C4'.format(base_resn[0]), '{} and name N3'.format(base_resn[0]))\n",
    "    cmd.bond('{} and name C4'.format(base_resn[0]), '{} and name N3'.format(base_resn[0]), 1)\n",
    "    \n",
    "cmd.create(base_resn[1], 'ETH_capped or {}'.format(base_resn[0]))\n",
    "cmd.delete(base_resn[0])\n",
    "cmd.delete('ETH_capped')\n",
    "\n",
    "if 'A' in base_resn[1]:\n",
    "    cmd.bond('{} and name N1'.format(base_resn[1]), '{} and name C9'.format(base_resn[1]))\n",
    "    cmd.bond('{} and name N6'.format(base_resn[1]), '{} and name C7'.format(base_resn[1]))\n",
    "else:\n",
    "    cmd.bond('{} and name N3'.format(base_resn[1]), '{} and name C9'.format(base_resn[1]))\n",
    "    cmd.bond('{} and name N4'.format(base_resn[1]), '{} and name C7'.format(base_resn[1]))\n",
    "    \n",
    "cmd.alter('all', 'type=\"ATOM\"')\n",
    "cmd.alter('all', 'elem=\"\"')\n",
    "cmd.set_title(base_resn[1],1,base_resn[1])\n",
    "```"
   ]
  },
  {
   "cell_type": "code",
   "execution_count": null,
   "id": "8925297b",
   "metadata": {},
   "outputs": [],
   "source": [
    "fl.ff.pymol_savemol2('fragments/base_linkers/{}.mol2'.format(base_resn[1]), base_resn[1], overwrite=True)"
   ]
  },
  {
   "cell_type": "markdown",
   "id": "1f6e8054-7310-41ec-a847-2a0064b0e243",
   "metadata": {
    "lines_to_next_cell": 0
   },
   "source": [
    "Check the correct charge"
   ]
  },
  {
   "cell_type": "code",
   "execution_count": null,
   "id": "ccfdf142",
   "metadata": {},
   "outputs": [],
   "source": [
    "fl.ff.check_charge('fragments/base_linkers/{}.mol2'.format(base_resn[1]), -1)"
   ]
  },
  {
   "cell_type": "code",
   "execution_count": null,
   "id": "041b50f5",
   "metadata": {},
   "outputs": [],
   "source": [
    "base_resn_list = [('deoxyadenosine', 'DAE'),\n",
    "                  ('deoxycytidine', 'DCE'),\n",
    "                  ('adenosine', 'RAE'),\n",
    "                  ('cytidine', 'RCE')]\n",
    "\n",
    "for base_resn in base_resn_list:\n",
    "\n",
    "    for name, dye in dyes:\n",
    "        fl.ff.pymol_couple_dye2baselinker(dye, base_resn[1], 'C99', ['C17', 'O98', 'C16'], ['O98', 'C16', 'C17', 'H95', 'H96', 'H97'])\n",
    "        cmd.alter('all', 'elem=\"\"')\n",
    "        fl.ff.pymol_save_molecule('fluorlabel/dyes/{}_{}.pdb'.format(dye, base_resn[1]), '{}_{}'.format(dye, base_resn[1]), 'pdb', overwrite=True)\n",
    "        for base in ['RA', 'RC', 'DA', 'DC']:    \n",
    "            fl.ff.update_dye_library({'filename':'{}_{}E'.format(dye, base), 'dye':name, 'base':base, 'linker':'ETH', 'chemistry':'etheno', 'position':'internal'}, 'fluorlabel/dye_library.json', 'fluorlabel/dye_library.json', overwrite=True)"
   ]
  },
  {
   "cell_type": "markdown",
   "id": "c6fba9ac",
   "metadata": {},
   "source": [
    "## 2. End labeling fragments\n",
    "### 2.1 Labeling via phosphate at 5'-end\n",
    "\n",
    "#### 2.1.1 Geometry optimization\n",
    "\n",
    "Create Gaussian input file\n",
    "```sh\n",
    "name=POS_capped\n",
    "input_folder='in/'\n",
    "output_folder='out/'\n",
    "```\n",
    "\n",
    "Here, the net charge is -1\n",
    "```sh\n",
    "cd fragments/linkers/POS/\n",
    "antechamber -i \"$input_folder/$name\".mol2 -fi mol2 -o \"$output_folder/$name\".gin -fo gcrt -gv 1 -ge \"$output_folder/$name\".gesp -ch \"$output_folder/$name\"_opt -nc -1\n",
    "```\n",
    "\n",
    "Gaussian geometry optimization and ESP calculation\n",
    "```sh\n",
    "nproc=12\n",
    "sed 's/#HF.*/\\#P b3lyp\\/6-31G\\* Opt/g' < \"$output_folder/$name\".gin | sed '/iop/d' | sed '/.*gesp/d' | sed \"/--Link1--/ a %nproc=$nproc\" > \"$output_folder/$name\"_b3lyp_opt.gin\n",
    "sed '/^[[:space:]]*[A-Z]/d' < \"$output_folder/$name\".gin | sed 's/SCF/Geom=check SCF/g'| sed 's/\\(\\%chk=.*\\)opt/\\1esp/g' | sed \"/--Link1--/ a %nproc=$nproc\" > \"$output_folder/$name\"_hf_esp.gin\n",
    "g09 < \"$output_folder/$name\"_b3lyp_opt.gin > \"$output_folder/$name\"_b3lyp_opt.gout && cp \"$output_folder/$name\"_opt.chk \"$output_folder/$name\"_esp.chk\n",
    "g09 < \"$output_folder/$name\"_hf_esp.gin > \"$output_folder/$name\"_hf_esp.gout\n",
    "```\n",
    "\n",
    "#### 2.1.2 Partial charge fitting with RESP\n",
    "\n",
    "```{admonition} Rational for linker RESP charge derivation at 3'/5'-ends via phosphate\n",
    "*Reference*: [AMBER-MD tutorial](https://ambermd.org/tutorials/advanced/tutorial1/section1.htm)\n",
    "\n",
    "In the AMBER force fields (Cornell, *JACS*, **1995**) the **DNA** nucleotides the charges at the termini is as follows:\n",
    "- 5'-end nucleotide: -0.3079\n",
    "- 3'-end nucleotide: -0.6921\n",
    "\n",
    "For **RNA** the charges are:\n",
    "- 5'-end nucleotide: -0.3081\n",
    "- 3'-end nucleotide: -0.6919\n",
    "\n",
    "<img src='../images/DNAparameters_Cornell1995.png' width=800>\n",
    "\n",
    "---\n",
    "\n",
    "**Labeled DNA 5'-terminus**:\n",
    "\n",
    "The 5'-end nucleotide will become an internal residue (DNA charge: -1; i.e. the phosphate of the linker will be transferred to this nucleotide). The linker will become the new 5'-terminus (DNA charge: -0.3079). For this purpose, the **methylphosphate cap** ($-PO_2-OCH_3$) of the linker (which will be removed) should be constrained to a charge of -1-(-0.3079)=**-0.6921** during the RESP fit.\n",
    "\n",
    "**Labeled DNA 3'-terminus**:\n",
    "\n",
    "The 3'-end nucleotide will become an internal residue (DNA charge: -1). The linker will become the new 3'-terminus (DNA charge: -0.36921, i.e. $-PO_2-$ will be retained). For this purpose, the **methoxy cap** ($-O-CH_3$) of the linker (which will be removed) should be constrained to a charge of -1-(-0.6021)=**-0.3079** during the RESP fit.\n",
    "\n",
    "<img src='../images/POS_linker.png' width=800>\n",
    "```\n",
    "\n",
    "Run Antechamber with net charge -1\n",
    "```sh\n",
    "antechamber -i \"$input_folder/$name\".mol2 -fi mol2 -o \"$output_folder/$name\".ac -fo ac -pf yes -nc -1\n",
    "\n",
    "capping_group=POS_capping_groups_5prime_DNA.dat\n",
    "\n",
    "n_atom=`awk '$1 == \"GROUP\" {print $2}' \"$input_folder/$capping_group\"`\n",
    "group_constraint=`awk '$1 == \"GROUP\" {print $3}' \"$input_folder/$capping_group\"`\n",
    "\n",
    "respgen -i \"$output_folder/$name\".ac -o \"$output_folder/$name\".respin1 -f resp1 -a \"$input_folder/$capping_group\"\n",
    "respgen -i \"$output_folder/$name\".ac -o \"$output_folder/$name\".respin2 -f resp2 -a \"$input_folder/$capping_group\"\n",
    "\n",
    "# since respgen rounds the group constraint to three decimals replace it with the value from the capping group\n",
    "for i in `seq $(echo $n_atom | wc -w)`;do\n",
    "    atom=`echo $n_atom | cut -f$i -d' '`\n",
    "    group=`echo $group_constraint | cut -f$i -d' '`\n",
    "    sed -z -i \"s/$atom\\s*-*\\w\\.\\w*$p/$atom  $group/$i\" \"$output_folder/$name\".respin1\n",
    "    sed -z -i \"s/$atom\\s*-*\\w\\.\\w*$p/$atom  $group/$i\" \"$output_folder/$name\".respin2\n",
    "done\n",
    "\n",
    "espgen -i \"$output_folder/$name\"_hf_esp.gout -o \"$output_folder/$name\"_hf_esp.esp\n",
    "mv QIN \"$output_folder\"/\n",
    "\n",
    "resp -O -i \"$output_folder/$name\".respin1 -o \"$output_folder/$name\".respout1 -e \"$output_folder/$name\"_hf_esp.esp -q  \"$output_folder\"/QIN -t \"$output_folder\"/qout_stage1 -p \"$output_folder\"/punch1 -s \"$output_folder\"/esout1\n",
    "resp -O -i \"$output_folder/$name\".respin2 -o \"$output_folder/$name\".respout2 -e \"$output_folder/$name\"_hf_esp.esp -q \"$output_folder\"/qout_stage1 -t \"$output_folder\"/qout_stage2 -p \"$output_folder\"/punch2 -s \"$output_folder\"/esout2\n",
    "\n",
    "antechamber -i \"$output_folder/$name\".ac -fi ac -o \"$output_folder/$name\"_resp.mol2 -fo mol2 -c rc -cf \"$output_folder\"/qout_stage2 -pf yes -at amber\n",
    "```\n",
    "\n",
    "````{tip}\n",
    "The above two-stage RESP fitting protocol is wrapped in the following script:\n",
    "\n",
    "```\n",
    "resp_fit.sh -n POS_capped -i 'in/' -o 'out/' -g POS_capping_groups_5prime_DNA.dat -c -1\n",
    "```\n",
    "````\n",
    "\n",
    "#### 2.1.3 Coupling of base and dye\n",
    "Again, open PyMOL and couple the deoxythymine base and the MLE linker by executing the following from the PymOL command prompt\n",
    "\n",
    "```python\n",
    "names_methyl = ['C01','H01','H02','H03']\n",
    "names_phosphate = ['P','O1P','O5\\'','O2P']\n",
    "\n",
    "\n",
    "base_resn = ('deoxythymidine', 'DTP')\n",
    "# base_resn = ('deoxyadenosine', 'DAP')\n",
    "# base_resn = ('deoxyguanosine', 'DGP')\n",
    "# base_resn = ('deoxycytidine', 'DCP')\n",
    "# base_resn = ('uridine', 'RUP')\n",
    "# base_resn = ('adenosine', 'RAP')\n",
    "# base_resn = ('guanosine', 'RGP')\n",
    "# base_resn = ('cytidine', 'RCP')\n",
    "\n",
    "cmd.reinitialize()\n",
    "cmd.load('fragments/bases/out/{}.mol2'.format(base_resn[0]))\n",
    "\n",
    "if 'D' in base_resn[1]:\n",
    "    POS_capped_resp = 'POS_capped_resp_5prime_DNA'\n",
    "else:\n",
    "    POS_capped_resp = 'POS_capped_resp_5prime_RNA'\n",
    "    \n",
    "cmd.load('fragments/linkers/POS/out/{}.mol2'.format(POS_capped_resp))\n",
    "cmd.align('{} and name {}'.format(POS_capped_resp, '+'.join(str(i) for i in names_phosphate)), '{} and (name P or name O1P or name O2P or name O5\\')'.format(base_resn[0]))\n",
    "cmd.remove('{} and name {}'.format(POS_capped_resp, '+'.join(str(i) for i in names_methyl+names_phosphate)))\n",
    "cmd.create(base_resn[1], '{} or {}'.format(POS_capped_resp, base_resn[0]))\n",
    "cmd.delete(base_resn[0])\n",
    "cmd.delete(POS_capped_resp)\n",
    "cmd.bond('{} and name P'.format(base_resn[1]), '{} and name O01'.format(base_resn[1]))\n",
    "cmd.alter('all', 'type=\"ATOM\"')\n",
    "cmd.alter('all', 'elem=\"\"')\n",
    "cmd.set_title(base_resn[1],1,base_resn[1])\n",
    "\n",
    "import fretlabel as fl\n",
    "fl.ff.pymol_savemol2('fragments/base_linkers/{}.mol2'.format(base_resn[1]), base_resn[1], overwrite=True)\n",
    "```"
   ]
  },
  {
   "cell_type": "markdown",
   "id": "1277728d",
   "metadata": {
    "lines_to_next_cell": 0
   },
   "source": [
    "Check the correct charge"
   ]
  },
  {
   "cell_type": "code",
   "execution_count": 7,
   "id": "fc781449",
   "metadata": {},
   "outputs": [
    {
     "name": "stdout",
     "output_type": "stream",
     "text": [
      "Check passed!\n"
     ]
    }
   ],
   "source": [
    "base_resn = ('deoxythymidine', 'DTP')\n",
    "# base_resn = ('deoxyadenosine', 'DAP')\n",
    "# base_resn = ('deoxyguanosine', 'DGP')\n",
    "# base_resn = ('deoxycytidine', 'DCP')\n",
    "# base_resn = ('uridine', 'RUP')\n",
    "# base_resn = ('adenosine', 'RAP')\n",
    "# base_resn = ('guanosine', 'RGP')\n",
    "# base_resn = ('cytidine', 'RCP')\n",
    "\n",
    "if 'D' in base_resn[1]:\n",
    "    fl.ff.check_charge('fragments/4_base_linkers/{}.mol2'.format(base_resn[1]), -1.3079)\n",
    "else:\n",
    "    fl.ff.check_charge('fragments/4_base_linkers/{}.mol2'.format(base_resn[1]), -1.3081)"
   ]
  },
  {
   "cell_type": "markdown",
   "id": "ad51c2ad",
   "metadata": {},
   "source": [
    "Then add the fluorophore\n",
    "```python\n",
    "# execute a multiline statement in the PyMOL command shell\n",
    "python\n",
    "base_resn_list = [('deoxythymidine', 'DTP'), \n",
    "                  ('deoxyadenosine', 'DAP'),\n",
    "                  ('deoxyguanosine', 'DGP'),\n",
    "                  ('deoxycytidine', 'DCP'),\n",
    "                  ('uridine', 'RUP'),\n",
    "                  ('adenosine', 'RAP'),\n",
    "                  ('guanosine', 'RGP'),\n",
    "                  ('cytidine', 'RCP')]\n",
    "\n",
    "for base_resn in base_resn_list:\n",
    "\n",
    "    for name, dye in dyes:\n",
    "        fl.ff.pymol_couple_dye2baselinker(dye, base_resn[1], 'C99', ['C17', 'O98', 'C16'], ['O98', 'C16', 'C17', 'H95', 'H96', 'H97'])\n",
    "        cmd.alter('all', 'elem=\"\"')\n",
    "        fl.ff.pymol_save_molecule('fluorlabel/dyes/{}_{}.pdb'.format(dye, base_resn[1]), '{}_{}'.format(dye, base_resn[1]), 'pdb', overwrite=True)\n",
    "        for base in ['RA', 'RG', 'RC', 'RU', 'DA', 'DG', 'DC', 'DT']:\n",
    "            fl.ff.update_dye_library({'filename':'{}_{}P'.format(dye, base), 'dye':name, 'base':base, 'linker':'POS', 'chemistry':'phosphate', 'position':\"5'-end\"}, 'fluorlabel/dye_library.json', 'fluorlabel/dye_library.json', overwrite=True)\n",
    "end\n",
    "```"
   ]
  },
  {
   "cell_type": "markdown",
   "id": "1536bd06",
   "metadata": {},
   "source": [
    "### 2.2 Labeling via phosphate at 3'-end\n",
    "\n",
    "#### 2.1.1 Geometry optimization\n",
    "Same as for 5'-end.\n",
    "\n",
    "#### 2.1.2 Partial charge fitting with RESP\n",
    "Same as for 5'-end. For RESP use instead:\n",
    "```sh\n",
    "resp_fit.sh -n POS_capped -i 'in/' -o 'out/' -g POS_capping_groups_3prime_DNA.dat -c -1\n",
    "resp_fit.sh -n POS_capped -i 'in/' -o 'out/' -g POS_capping_groups_3prime_RNA.dat -c -1\n",
    "```\n",
    "\n",
    "#### 2.1.3 Coupling of base and dye\n",
    "First couple the bases and the POS linker, then add the dye.\n",
    "\n",
    "```python\n",
    "names_methyl = ['C01','H01','H02','H03']\n",
    "\n",
    "base_resn = ('deoxythymidine', 'DTO')\n",
    "# base_resn = ('deoxyadenosine', 'DAO')\n",
    "# base_resn = ('deoxyguanosine', 'DGO')\n",
    "# base_resn = ('deoxycytidine', 'DCO')\n",
    "# base_resn = ('uridine', 'RUO')\n",
    "# base_resn = ('adenosine', 'RAO')\n",
    "# base_resn = ('guanosine', 'RGO')\n",
    "# base_resn = ('cytidine', 'RCO')\n",
    "\n",
    "cmd.reinitialize()\n",
    "cmd.load('fragments/bases/out/{}.mol2'.format(base_resn[0]))\n",
    "\n",
    "if 'D' in base_resn[1]:\n",
    "    POS_capped_resp = 'POS_capped_resp_3prime_DNA'\n",
    "else:\n",
    "    POS_capped_resp = 'POS_capped_resp_3prime_RNA'\n",
    "    \n",
    "cmd.load('fragments/linkers/POS/out/{}.mol2'.format(POS_capped_resp))\n",
    "cmd.alter('{} and name P'.format(POS_capped_resp),'name=\"P1\"')\n",
    "cmd.alter('{} and name O1P'.format(POS_capped_resp),'name=\"O3P\"')\n",
    "cmd.alter('{} and name O2P'.format(POS_capped_resp),'name=\"O4P\"')\n",
    "cmd.pair_fit('{} and name O5\\''.format(POS_capped_resp),'{} and name O3\\''.format(base_resn[0]), \n",
    "                 '{} and name C01'.format(POS_capped_resp), '{} and name C3\\''.format(base_resn[0]), \n",
    "                 '{} and name H03'.format(POS_capped_resp), '{} and name H3\\''.format(base_resn[0]))\n",
    "cmd.remove('{} and (name {} or name O5\\')'.format(POS_capped_resp, '+'.join(str(i) for i in names_methyl)))\n",
    "cmd.create(base_resn[1], '{} or {}'.format(POS_capped_resp, base_resn[0]))\n",
    "cmd.delete(base_resn[0])\n",
    "cmd.delete(POS_capped_resp)\n",
    "cmd.bond('{} and name P1 and resn POS'.format(base_resn[1]), '{} and name O3\\''.format(base_resn[1]))\n",
    "cmd.alter('all', 'type=\"ATOM\"')\n",
    "cmd.alter('all', 'elem=\"\"')\n",
    "cmd.set_title(base_resn[1],1,base_resn[1])\n",
    "\n",
    "import fretlabel as fl\n",
    "fl.ff.pymol_savemol2('fragments/base_linkers/{}.mol2'.format(base_resn[1]), base_resn[1], overwrite=True)\n",
    "```"
   ]
  },
  {
   "cell_type": "markdown",
   "id": "622cba30",
   "metadata": {
    "lines_to_next_cell": 0
   },
   "source": [
    "Check the correct charge"
   ]
  },
  {
   "cell_type": "code",
   "execution_count": null,
   "id": "bf5fdff8",
   "metadata": {},
   "outputs": [],
   "source": [
    "if 'D' in base_resn[1]:\n",
    "    fl.ff.check_charge('fragments/base_linkers/{}.mol2'.format(base_resn[1]), -1.6921)\n",
    "else:\n",
    "    fl.ff.check_charge('fragments/base_linkers/{}.mol2'.format(base_resn[1]), -1.6919)"
   ]
  },
  {
   "cell_type": "markdown",
   "id": "165701e5-9cd2-41e8-b5d8-36e2cace932c",
   "metadata": {},
   "source": [
    "Then add the fluorophore\n",
    "\n",
    "```python\n",
    "python\n",
    "base_resn_list = [('deoxythymidine', 'DTO'),\n",
    "                  ('deoxyadenosine', 'DAO'),\n",
    "                  ('deoxyguanosine', 'DGO'),\n",
    "                  ('deoxycytidine', 'DCO'),\n",
    "                  ('uridine', 'RUO'),\n",
    "                  ('adenosine', 'RAO'),\n",
    "                  ('guanosine', 'RGO'),\n",
    "                  ('cytidine', 'RCO')]\n",
    "\n",
    "for base_resn in base_resn_list:\n",
    "\n",
    "    for name, dye in dyes:\n",
    "        fl.ff.pymol_couple_dye2baselinker(dye, base_resn[1], 'C99', ['C17', 'O98', 'C16'], ['O98', 'C16', 'C17', 'H95', 'H96', 'H97'])\n",
    "        cmd.alter('all', 'elem=\"\"')\n",
    "        fl.ff.pymol_save_molecule('fluorlabel/dyes/{}_{}.pdb'.format(dye, base_resn[1]), '{}_{}'.format(dye, base_resn[1]), 'pdb', overwrite=True)\n",
    "        for base in ['RA', 'RG', 'RC', 'RU', 'DA', 'DG', 'DC', 'DT']:\n",
    "            fl.ff.update_dye_library({'filename':'{}_{}O'.format(dye, base), 'dye':name, 'base':base, 'linker':'POS', 'chemistry':'phosphate', 'position':\"3'-end\"}, 'fluorlabel/dye_library.json', 'fluorlabel/dye_library.json', overwrite=True)\n",
    "end           \n",
    "```"
   ]
  },
  {
   "cell_type": "markdown",
   "id": "f8381e12",
   "metadata": {},
   "source": [
    "### 2.3 Labeling via hydrazide at 3'-end\n",
    "\n",
    "#### 2.3.1 Geometry optimization\n",
    "Same as for phosphate (POS) but with `name=HYD_capped`\n",
    "\n",
    "#### 2.3.2 Partial charge fitting with RESP\n",
    "\n",
    "```{admonition} Rational for linker RESP charge derivation at 3'-end via hydrazide\n",
    "Insertion of a hydrazide with sugar ring closure can only occur in riboses (RNA) because it requires a dialdehyde (O2', O3'). The four RNA bases are parameterized such that the partial charges of the base + C1' + H1' = **0.1160**. The NH2 capping group of the linker (which is a placeholder for the base) + C1' + H1' are therefore constrained to **0.1160**. The charges of C1' and H1' are fixed to those of the respective nucleotide in the Amber force field (e.g. for adenosine: C1'=**0.0394** and H1'=**0.2007**)\n",
    "\n",
    "The methoxy cap (which will be removed) is constrained to -0.3081 such that the remaining fragment will sum up to **-0.6919**.\n",
    "\n",
    "<img src='../images/etheno_hydrazide_linker.png' width=800>\n",
    "```\n",
    "\n",
    "In general the same as for phosphate (POS). For RESP use:\n",
    "\n",
    "```sh\n",
    "resp_fit.sh -n HYD_capped -i 'in/' -o 'out/' -g HYD_capping_groups_adenine_RNA.dat -c -1\n",
    "resp_fit.sh -n HYD_capped -i 'in/' -o 'out/' -g HYD_capping_groups_guanine_RNA.dat -c -1\n",
    "resp_fit.sh -n HYD_capped -i 'in/' -o 'out/' -g HYD_capping_groups_cytosine_RNA.dat -c -1\n",
    "resp_fit.sh -n HYD_capped -i 'in/' -o 'out/' -g HYD_capping_groups_uracil_RNA.dat -c -1\n",
    "```"
   ]
  },
  {
   "cell_type": "markdown",
   "id": "d942cdc4-0c38-48da-a263-bb58a1bf62de",
   "metadata": {},
   "source": [
    "#### 2.1.3 Coupling of base and dye\n",
    "First couple the bases and the POS linker, then add the dye.\n",
    "\n",
    "```python\n",
    "names_methoxyl = ['C01','H01','H02','H03', 'O01']\n",
    "names_amine = ['N97','H94','H93']\n",
    "\n",
    "# only RNA residues because labeling needs O2' and O3' to form a dialdehyde\n",
    "base_resn = ('uridine', 'RUH')\n",
    "base_resn = ('adenosine', 'RAH')\n",
    "base_resn = ('guanosine', 'RGH')\n",
    "base_resn = ('cytidine', 'RCH')\n",
    "\n",
    "cmd.reinitialize()\n",
    "cmd.load('fragments/bases/out/{}.mol2'.format(base_resn[0]))\n",
    "cmd.load('fragments/linkers/HYD/out/HYD_capped_resp_{}_RNA.mol2'.format(base_resn[0]))\n",
    "\n",
    "if ('A' in base_resn[1]) or ('G' in base_resn[1]):\n",
    "    atm = 'N9'\n",
    "else:\n",
    "    atm = 'N1'\n",
    "\n",
    "cmd.pair_fit('HYD_capped and name O5\\'','{} and name O5\\''.format(base_resn[0]), \n",
    "                 'HYD_capped and name C5\\'', '{} and name C5\\''.format(base_resn[0]), \n",
    "                 'HYD_capped and name P', '{} and name P'.format(base_resn[0]),\n",
    "                 'HYD_capped and name C4\\'', '{} and name C4\\''.format(base_resn[0]),\n",
    "                 'HYD_capped and name O4\\'', '{} and name O4\\''.format(base_resn[0]),\n",
    "                 'HYD_capped and name N97', '{} and name {}'.format(base_resn[0], atm))\n",
    "cmd.remove('HYD_capped_resp and name {}'.format('+'.join(str(i) for i in names_methoxyl)))\n",
    "cmd.remove('HYD_capped_resp and name {}'.format('+'.join(str(i) for i in names_amine)))\n",
    "cmd.remove('{} and name {}'.format(base_resn[0], 'C*\\'+O*\\'+O*P*+H*\\'*+P'))\n",
    "cmd.create(base_resn[1], 'HYD_capped_resp or {}'.format(base_resn[0]))\n",
    "cmd.delete(base_resn[0])\n",
    "cmd.delete('HYD_capped_resp')\n",
    "cmd.bond('{} and name {}'.format(base_resn[1], atm), '{} and name C1\\''.format(base_resn[1]))\n",
    "cmd.set_title(base_resn[1],1,base_resn[1])\n",
    "\n",
    "fl.ff.pymol_savemol2('fragments/base_linkers/{}.mol2'.format(base_resn[1]), base_resn[1], overwrite=True)\n",
    "```"
   ]
  },
  {
   "cell_type": "markdown",
   "id": "381fad1a",
   "metadata": {
    "lines_to_next_cell": 0
   },
   "source": [
    "Check the correct charge"
   ]
  },
  {
   "cell_type": "code",
   "execution_count": null,
   "id": "6b50a57f",
   "metadata": {},
   "outputs": [],
   "source": [
    "if 'D' in base_resn[1]:\n",
    "    fl.ff.check_charge('fragments/base_linkers/{}.mol2'.format(base_resn[1]), -0.6921)\n",
    "else:\n",
    "    fl.ff.check_charge('fragments/base_linkers/{}.mol2'.format(base_resn[1]), -0.6919)"
   ]
  },
  {
   "cell_type": "markdown",
   "id": "80e2f1f0-bd91-402f-a8d4-30cef3ce0a09",
   "metadata": {},
   "source": [
    "Then add the fluorophore\n",
    "\n",
    "```python\n",
    "python\n",
    "base_resn_list = [('uridine', 'RUH'),\n",
    "                  ('adenosine', 'RAH'),\n",
    "                  ('guanosine', 'RGH'),\n",
    "                  ('cytidine', 'RCH')]\n",
    "\n",
    "for base_resn in base_resn_list:\n",
    "\n",
    "    for name, dye in dyes:\n",
    "        fl.ff.pymol_couple_dye2baselinker(dye, base_resn[1], 'C99', ['C17', 'O98', 'C16'], ['O98', 'C16', 'C17', 'H95', 'H96', 'H97'])\n",
    "        cmd.alter('all', 'elem=\"\"')\n",
    "        fl.ff.pymol_save_molecule('fluorlabel/dyes/{}_{}.pdb'.format(dye, base_resn[1]), '{}_{}'.format(dye, base_resn[1]), 'pdb', overwrite=True)\n",
    "        for base in ['RA', 'RG', 'RC', 'RU']:    \n",
    "            fl.ff.update_dye_library({'filename':'{}_{}H'.format(dye, base), 'dye':name, 'base':base, 'linker':'HYD', 'chemistry':'hydrazide', 'position':\"3'-end\"}, 'fluorlabel/dye_library.json', 'fluorlabel/dye_library.json', overwrite=True)\n",
    "end\n",
    "```"
   ]
  },
  {
   "cell_type": "markdown",
   "id": "9a2a2b9d",
   "metadata": {},
   "source": [
    "## 3. Forcefield parameterization\n",
    "\n",
    "First, read in AMBER-DYES force field (Graen et al. *JCTC*, **2014**)"
   ]
  },
  {
   "cell_type": "code",
   "execution_count": null,
   "id": "34c337cf",
   "metadata": {},
   "outputs": [],
   "source": [
    "amberdyes_ff = fl.ff.Parameters.read_amberdyes(['fretlabel/forcefields/3_fretlabel/ffbonded_amberdyes.itp', 'fretlabel/forcefields/amberdyes/ffnonbonded_amberdyes.itp'])"
   ]
  },
  {
   "cell_type": "markdown",
   "id": "7cc334d1",
   "metadata": {
    "lines_to_next_cell": 0
   },
   "source": [
    "Read the force field of your choice (here AMBER-ff14sb shipped with FRETlabel) "
   ]
  },
  {
   "cell_type": "code",
   "execution_count": null,
   "id": "3e52354f",
   "metadata": {},
   "outputs": [],
   "source": [
    "amber14sb_ff = fl.ff.Parameters.read_ff(['amber14sb/ffbonded.itp', 'amber14sb/ffnonbonded.itp'])"
   ]
  },
  {
   "cell_type": "markdown",
   "id": "d71bce0e",
   "metadata": {},
   "source": [
    "### 3.1 Create force-field parameters with Acpype\n",
    "#### 3.1.1 Deoxythymidine \n",
    "\n",
    "Run **Acpype** on the internal DTM fragment"
   ]
  },
  {
   "cell_type": "markdown",
   "id": "0fe36135",
   "metadata": {},
   "source": [
    "```sh\n",
    "cd fragments/5_acpype\n",
    "\n",
    "base_linker=DTM\n",
    "base=DT\n",
    "\n",
    "base_linker=RUM\n",
    "base=RU\n",
    "\n",
    "linker=MLE\n",
    "filename=../base_linkers/\"$base_linker\".mol2\n",
    "sed \"s/${base}/${base_linker}/g\" \"$filename\" | sed \"s/${linker}/${base_linker}/g\" > \"$base_linker\"_ff.mol2\n",
    "acpype -i \"$base_linker\"_ff.mol2 -o gmx -n -1 -a amber -c user\n",
    "```"
   ]
  },
  {
   "cell_type": "code",
   "execution_count": null,
   "id": "1f13929b",
   "metadata": {},
   "outputs": [],
   "source": [
    "baselinkers_itp = {}\n",
    "baselinkers_ff = {}"
   ]
  },
  {
   "cell_type": "markdown",
   "id": "942bbf37",
   "metadata": {},
   "source": [
    "Read the itp files into the `fl.ff.Molecule` class and the forcefield modification parameters into the `fl.ff.Parameters` class."
   ]
  },
  {
   "cell_type": "code",
   "execution_count": null,
   "id": "bb1fc2d1",
   "metadata": {
    "lines_to_next_cell": 2
   },
   "outputs": [],
   "source": [
    "moleculetypes = ['DTM', 'RUM']\n",
    "\n",
    "for mol in moleculetypes:\n",
    "    baselinkers_itp[mol] = fl.ff.Molecule.read_molecule('fragments/acpype/{}_ff.acpype/{}_ff_GMX.itp'.format(mol,mol), 'FLUOR-DYNAMICS')\n",
    "    baselinkers_itp[mol].change_type('O3\\'', 'OS') # residue is internal not terminal\n",
    "    for a in ['O98', 'C16', 'C17', 'H95', 'H96', 'H97']:\n",
    "        baselinkers_itp[mol].remove_atom(a)\n",
    "    baselinkers_ff[mol] = fl.ff.Parameters.read_frcmod('fragments/acpype/{}_ff.acpype/{}_ff_AC.frcmod'.format(mol,mol), baselinkers_itp[mol].atomtypes_molecule)\n",
    "    amberdyes_ff.append(baselinkers_ff[mol])"
   ]
  },
  {
   "cell_type": "markdown",
   "id": "5f0b728f",
   "metadata": {},
   "source": [
    "#### 3.1.2 3'/5'-end phosphates and 3'-end hydrazide\n",
    "Acpype requires a residue with integral charge (...,-1,0,1,...). Therefore, we will combine the 3'-end and 5'-end fragments into a dinucleotide (charge: -2) using PyMOL."
   ]
  },
  {
   "cell_type": "code",
   "execution_count": null,
   "id": "455f4b8e",
   "metadata": {},
   "outputs": [],
   "source": [
    "end = {'base':'DA', '5':'DAP', '3':'DAO'}\n",
    "# end = {'base':'DG', '5':'DGP', '3':'DGO'}\n",
    "# end = {'base':'DC', '5':'DCP', '3':'DCO'}\n",
    "# end = {'base':'DT', '5':'DTP', '3':'DTO'}\n",
    "# end = {'base':'RA', '5':'RAP', '3':'RAO'}\n",
    "# end = {'base':'RG', '5':'RGP', '3':'RGO'}\n",
    "# end = {'base':'RC', '5':'RCP', '3':'RCO'}\n",
    "# end = {'base':'RU', '5':'RUP', '3':'RUO'}\n",
    "\n",
    "# end = {'base':'RA', '5':'RAP', '3':'RAH'}\n",
    "# end = {'base':'RG', '5':'RGP', '3':'RGH'}\n",
    "# end = {'base':'RC', '5':'RCP', '3':'RCH'}\n",
    "# end = {'base':'RU', '5':'RUP', '3':'RUH'}\n",
    "\n",
    "cmd.reinitialize()\n",
    "cmd.load('fragments/base_linkers/{}.mol2'.format(end['5']))\n",
    "cmd.load('fragments/base_linkers/{}.mol2'.format(end['3']))\n",
    "\n",
    "# reassigning residue numbers and segment ids preserves the atom numbering after running through acpype\n",
    "cmd.alter('resn POS and {}'.format(end['5']), 'resi=\"1\"')\n",
    "cmd.alter('resn POS and {}'.format(end['5']), 'segi=\"1\"')\n",
    "cmd.alter('resn {}'.format(end['base']), 'resi=\"2\"')\n",
    "cmd.alter('resn {}'.format(end['base']), 'segi=\"2\"')\n",
    "cmd.alter('(resn POS or resn HYD) and {}'.format(end['3']), 'resi=\"3\"')\n",
    "cmd.alter('(resn POS or resn HYD) and {}'.format(end['3']), 'segi=\"3\"')\n",
    "cmd.remove('{} and resn {}'.format(end['5'], end['base']))\n",
    "cmd.create('{}_{}'.format(end['5'],end['3']), '{} or {}'.format(end['5'],end['3']))\n",
    "cmd.bond('(resn {} or resn HYD) and name P'.format(end['base']), 'resn POS and name O01 and resi 1')\n",
    "cmd.alter('resn POS', 'resn=\"{}\"'.format(end['3']))\n",
    "cmd.alter('resn {} or resn HYD'.format(end['base']), 'resn=\"{}\"'.format(end['3']))"
   ]
  },
  {
   "cell_type": "code",
   "execution_count": null,
   "id": "0773161e",
   "metadata": {},
   "outputs": [],
   "source": [
    "fl.ff.pymol_savemol2('fragments/acpype/{}_{}_ff.mol2'.format(end['5'], end['3']), '{}_{}'.format(end['5'], end['3']), overwrite=True)"
   ]
  },
  {
   "cell_type": "markdown",
   "id": "d22567af",
   "metadata": {},
   "source": [
    "Run **Acpype** on the dinucleotide fragments.\n",
    "\n",
    "```\n",
    "cd fragments/5_acpype/\n",
    "fusion=DAP_DAO\n",
    "fusion=DGP_DGO\n",
    "fusion=DCP_DCO\n",
    "fusion=DTP_DTO\n",
    "fusion=RAP_RAO\n",
    "fusion=RGP_RGO\n",
    "fusion=RCP_RCO\n",
    "fusion=RUP_RUO\n",
    "\n",
    "fusion=RAP_RAH\n",
    "fusion=RGP_RGH\n",
    "fusion=RCP_RCH\n",
    "fusion=RUP_RUH\n",
    "acpype -i \"$fusion\"_ff.mol2 -o gmx -n -1 -a amber -c user\n",
    "```"
   ]
  },
  {
   "cell_type": "markdown",
   "id": "8d5ac901",
   "metadata": {},
   "source": [
    "Read the itp files into the `fl.ff.Molecule` class and the forcefield modification parameters into the `fl.ff.Parameters` class.\n",
    "\n",
    "```{note}\n",
    "The dinucleotides are differentiated by their `subst_id`.\n",
    "```"
   ]
  },
  {
   "cell_type": "code",
   "execution_count": null,
   "id": "5b0b1085",
   "metadata": {},
   "outputs": [],
   "source": [
    "moleculetypes = [{'base':'DA', '5':'DAP', '3':'DAO'},\n",
    "       {'base':'DG', '5':'DGP', '3':'DGO'},\n",
    "       {'base':'DC', '5':'DCP', '3':'DCO'},\n",
    "       {'base':'DT', '5':'DTP', '3':'DTO'},\n",
    "       {'base':'RA', '5':'RAP', '3':'RAO'},\n",
    "       {'base':'RG', '5':'RGP', '3':'RGO'},\n",
    "       {'base':'RC', '5':'RCP', '3':'RCO'},\n",
    "       {'base':'RU', '5':'RUP', '3':'RUO'},\n",
    "       {'base':'RU', '5':'RAP', '3':'RAH'},\n",
    "       {'base':'RU', '5':'RGP', '3':'RGH'},\n",
    "       {'base':'RU', '5':'RCP', '3':'RCH'},\n",
    "       {'base':'RU', '5':'RUP', '3':'RUH'}]\n",
    "\n",
    "for end in moleculetypes:\n",
    "    fusion_itp = fl.ff.Molecule.read_molecule('fragments/acpype/{}_{}_ff.acpype/{}_{}_ff_GMX.itp'.format(end['5'],end['3'],end['5'],end['3']), 'FLUOR-DYNAMICS')\n",
    "    if 'H' not in end['3']:\n",
    "        fusion_itp.change_type('O3\\'', 'OS') # residue is internal not terminal\n",
    "    baselinkers_ff['{}_{}'.format(end['5'],end['3'])] = fl.ff.Parameters.read_frcmod('fragments/acpype/{}_{}_ff.acpype/{}_{}_ff_AC.frcmod'.format(end['5'],end['3'],end['5'],end['3']), fusion_itp.atomtypes_molecule)\n",
    "    amberdyes_ff.append(baselinkers_ff['{}_{}'.format(end['5'],end['3'])])\n",
    "        \n",
    "    ff_mol2 = PandasMol2().read_mol2('fragments/acpype/{}_{}_ff.mol2'.format(end['5'],end['3']))\n",
    "    atoms5 = fusion_itp.atoms[(ff_mol2.df['subst_id']==1) | (ff_mol2.df['subst_id']==2)]\n",
    "    atoms3 = fusion_itp.atoms[(ff_mol2.df['subst_id']==2) | (ff_mol2.df['subst_id']==3)]\n",
    "    bonds5 = fusion_itp.bonds[fusion_itp.bonds['i'].isin(atoms5['nr']) & fusion_itp.bonds['j'].isin(atoms5['nr'])]\n",
    "    bonds3 = fusion_itp.bonds[fusion_itp.bonds['i'].isin(atoms3['nr']) & fusion_itp.bonds['j'].isin(atoms3['nr'])]\n",
    "    impropers5 = fusion_itp.impropers[fusion_itp.impropers['i'].isin(atoms5['nr']) & fusion_itp.impropers['j'].isin(atoms5['nr']) & fusion_itp.impropers['k'].isin(atoms5['nr']) & fusion_itp.impropers['l'].isin(atoms5['nr'])]\n",
    "    impropers3 = fusion_itp.impropers[fusion_itp.impropers['i'].isin(atoms3['nr']) & fusion_itp.impropers['j'].isin(atoms3['nr']) & fusion_itp.impropers['k'].isin(atoms3['nr']) & fusion_itp.impropers['l'].isin(atoms3['nr'])]\n",
    "    \n",
    "    baselinkers_itp[end['5']] = fl.ff.Molecule(end['5'], atoms5, bonds5, None, None, impropers5)\n",
    "    baselinkers_itp[end['3']] = fl.ff.Molecule(end['3'], atoms3, bonds3, None, None, impropers3)\n",
    "    for a in ['O98', 'C16', 'C17', 'H95', 'H96', 'H97']:\n",
    "        baselinkers_itp[end['5']].remove_atom(a)\n",
    "        baselinkers_itp[end['3']].remove_atom(a)"
   ]
  },
  {
   "cell_type": "markdown",
   "id": "aec22d12",
   "metadata": {},
   "source": [
    "#### 3.1.3 Ethenoadenine and ethenocytosine\n",
    "\n",
    "```\n",
    "cd fragments/5_acpype\n",
    "\n",
    "base_linker=RAE\n",
    "base=RA\n",
    "\n",
    "base_linker=RCE\n",
    "base=RC\n",
    "\n",
    "base_linker=DAE\n",
    "base=DA\n",
    "\n",
    "base_linker=DCE\n",
    "base=DC\n",
    "\n",
    "linker=ETH\n",
    "filename=../base_linkers/\"$base_linker\".mol2\n",
    "sed \"s/${base}/${base_linker}/g\" \"$filename\" | sed \"s/${linker}/${base_linker}/g\" > \"$base_linker\"_ff.mol2\n",
    "acpype -i \"$base_linker\"_ff.mol2 -o gmx -n -1 -a amber -c user\n",
    "```"
   ]
  },
  {
   "cell_type": "code",
   "execution_count": null,
   "id": "004040df",
   "metadata": {},
   "outputs": [],
   "source": [
    "moleculetypes = ['RAE', 'RCE', 'DAE', 'DCE']\n",
    "\n",
    "for mol in moleculetypes:\n",
    "    baselinkers_itp[mol] = fl.ff.Molecule.read_molecule('fragments/acpype/{}_ff.acpype/{}_ff_GMX.itp'.format(mol,mol), 'FLUOR-DYNAMICS')\n",
    "    baselinkers_itp[mol].change_type('O3\\'', 'OS') # residue is internal not terminal\n",
    "    for a in ['O98', 'C16', 'C17', 'H95', 'H96', 'H97']:\n",
    "        baselinkers_itp[mol].remove_atom(a)\n",
    "    baselinkers_ff[mol] = fl.ff.Parameters.read_frcmod('fragments/acpype/{}_ff.acpype/{}_ff_AC.frcmod'.format(mol,mol), baselinkers_itp[mol].atomtypes_molecule)\n",
    "    amberdyes_ff.append(baselinkers_ff[mol])"
   ]
  },
  {
   "cell_type": "markdown",
   "id": "8255b329",
   "metadata": {},
   "source": [
    "### 3.2 Update bonded and nonbonded parameters\n",
    "\n",
    "Define the atoms for the specialbonds."
   ]
  },
  {
   "cell_type": "code",
   "execution_count": null,
   "id": "bc207e50",
   "metadata": {},
   "outputs": [],
   "source": [
    "atoms_amberdyes = {'bondtypes' : [['ng', 'cg']],\n",
    "                   'angletypes': [['c3g', 'ng', 'cg'],\n",
    "                                  ['hng', 'ng', 'cg'],\n",
    "                                  ['ng', 'cg', 'og'],\n",
    "                                  ['ng', 'cg', 'c3g'],\n",
    "                                  ['C', 'N', 'NT']],\n",
    "                   'propertypes' : [['c3g', 'c3g', 'cg', 'ng'],\n",
    "                                    ['hcg', 'c3g', 'cg', 'ng'],\n",
    "                                    ['c3g', 'cg', 'ng', 'hng'],\n",
    "                                    ['og', 'cg', 'ng', 'hng'],\n",
    "                                    ['c3g', 'cg', 'ng', 'c3g'],\n",
    "                                    ['og', 'cg', 'ng', 'c3g'],\n",
    "                                    ['C', 'N', 'NT', 'CT'],\n",
    "                                    ['X', 'C', 'N', 'X'],\n",
    "                                    ['X', 'C', 'N', 'X']],\n",
    "                   'impropertypes': [['C', 'CB', 'CB', 'NB'],\n",
    "                                     ['CB', 'N*', 'CB', 'NC']]\n",
    "                  }\n",
    "\n",
    "atoms_linker = {'bondtypes': [['N', 'cg']],\n",
    "                'angletypes': [['CT', 'N', 'cg'],\n",
    "                               ['H', 'N', 'cg'],\n",
    "                               ['N', 'cg', 'og'],\n",
    "                               ['N', 'cg', 'c3g'],\n",
    "                               ['cg', 'N', 'NT']],\n",
    "                'propertypes': [['c3g', 'c3g', 'cg', 'N'],\n",
    "                                ['hcg', 'c3g', 'cg', 'N'],\n",
    "                                ['c3g', 'cg', 'N', 'H'],\n",
    "                                ['og', 'cg', 'N', 'H'],\n",
    "                                ['c3g', 'cg', 'N', 'CT'],\n",
    "                                ['og', 'cg', 'N', 'CT'],\n",
    "                                ['cg', 'N', 'NT', 'CT'],\n",
    "                                ['c3g', 'cg', 'N', 'NT'],\n",
    "                                ['og', 'cg', 'N', 'NT']],\n",
    "               'impropertypes': [['CB', 'CB', 'C', 'NB'],\n",
    "                                 ['NC', 'CB', 'CB', 'N*']]\n",
    "               }"
   ]
  },
  {
   "cell_type": "code",
   "execution_count": null,
   "id": "621bbe76",
   "metadata": {},
   "outputs": [],
   "source": [
    "atoms_amberdyes2 = {'propertypes' : [['X', 'C', 'N', 'X'],\n",
    "                                    ['X', 'C', 'N', 'X']]\n",
    "                   }\n",
    "atoms_linker2 = {'propertypes' : [['c3g', 'cg', 'N', 'NT'],\n",
    "                                  ['og', 'cg', 'N', 'NT']]\n",
    "                }"
   ]
  },
  {
   "cell_type": "code",
   "execution_count": null,
   "id": "e0ff4397",
   "metadata": {},
   "outputs": [],
   "source": [
    "specialbond_ff = fl.ff.Parameters.read_specialbond(amberdyes_ff, atoms_amberdyes, atoms_linker)\n",
    "specialbond2_ff = fl.ff.Parameters.read_specialbond(aber14sb_ff, atoms_amberdyes2, atoms_linker2, 'AMBER14sb')\n",
    "\n",
    "amberdyes_ff.append(specialbond_ff)\n",
    "amberdyes_ff.append(specialbond2_ff)"
   ]
  },
  {
   "cell_type": "markdown",
   "id": "e4e9b75b",
   "metadata": {},
   "source": [
    "Write new **ffnonbonded.itp** and **ffbonded.itp** files of the combined forcefield (ff14sb, amberdyes_ff, baselinkers_ff and specialbond_ff) into a directory `4_fretlabel/`."
   ]
  },
  {
   "cell_type": "code",
   "execution_count": null,
   "id": "acc6adfb",
   "metadata": {},
   "outputs": [],
   "source": [
    "amberdyes_ff.add2ff('ff14sb', 'forcefields/4_fretlabel/')"
   ]
  },
  {
   "cell_type": "markdown",
   "id": "cbfea72c",
   "metadata": {},
   "source": [
    "Export a residue topology (**rtp**) file with the new base-linkers."
   ]
  },
  {
   "cell_type": "code",
   "execution_count": null,
   "id": "20ad8842",
   "metadata": {},
   "outputs": [],
   "source": [
    "fl.ff.write_rtp('forcefields/4_fretlabel/fretlabel.rtp', [baselinkers_itp[mol] for mol in baselinkers_itp.keys()])"
   ]
  },
  {
   "cell_type": "markdown",
   "id": "84cdeda0",
   "metadata": {},
   "source": [
    "Update the **residuetypes.dat** file."
   ]
  },
  {
   "cell_type": "code",
   "execution_count": null,
   "id": "7a1b690b",
   "metadata": {},
   "outputs": [],
   "source": [
    "i = 0\n",
    "for resi in ['DAO', 'DGO', 'DCO', 'DTO', 'DAP', 'DGP', 'DCP', 'DTP', 'DTM', 'RUM', 'DAE', 'DCE']:\n",
    "    if i == 0:\n",
    "        fl.ff.update_residuetypes('{} DNA'.format(resi), 'forcefields/amberdyes/residuetypes_amberdyes.dat', 'forcefields/4_fretlabel/residuetypes.dat', overwrite=True)\n",
    "    else:\n",
    "        fl.ff.update_residuetypes('{} DNA'.format(resi), 'forcefields/4_fretlabel/residuetypes.dat', '.forcefields/4_fretlabel/residuetypes.dat', overwrite=True)\n",
    "    i += 1\n",
    "    \n",
    "for resi in ['RAO', 'RGO', 'RCO', 'RUO', 'RAP', 'RGP', 'RCP', 'RUP', 'RAH', 'RGH', 'RCH', 'RUH', 'RAE', 'RCE']:\n",
    "    fl.ff.update_residuetypes('{} RNA'.format(resi), 'forcefields/4_fretlabel/residuetypes.dat', 'forcefields/4_fretlabel/residuetypes.dat', overwrite=True)\n",
    "    i += 1\n",
    "    \n",
    "for name,resi in dyes:\n",
    "    fl.ff.update_residuetypes('{} RNA'.format(resi), 'forcefields/4_fretlabel/residuetypes.dat', 'forcefields/4_fretlabel/residuetypes.dat', overwrite=True)\n",
    "    i += 1\n",
    "print('{} new entries in residuetypes.dat'.format(i))"
   ]
  },
  {
   "cell_type": "markdown",
   "id": "19b6528d",
   "metadata": {},
   "source": [
    "Update the **specbond.dat** file."
   ]
  },
  {
   "cell_type": "code",
   "execution_count": null,
   "id": "af1481e9",
   "metadata": {
    "lines_to_next_cell": 0
   },
   "outputs": [],
   "source": [
    "i = 0\n",
    "for name, resi1 in dyes:\n",
    "    for resi2 in ['DAO', 'DGO', 'DCO', 'DTO', 'DAP', 'DGP', 'DCP', 'DTP', \n",
    "                  'RAO', 'RGO', 'RCO', 'RUO', 'RAP', 'RGP', 'RCP', 'RUP', \n",
    "                  'DTM', 'RUM', 'RAE', 'RCE', 'DAE', 'DCE']:\n",
    "        if i == 0:\n",
    "            fl.ff.update_specbond('{} C99 1 {} N99 1 0.132 {} {}'.format(resi1, resi2, resi1, resi2), 'forcefields/amberdyes/specbond_amberdyes.dat', 'forcefields/4_fretlabel/specbond.dat', overwrite=True)\n",
    "        else:\n",
    "            fl.ff.update_specbond('{} C99 1 {} N99 1 0.132 {} {}'.format(resi1, resi2, resi1, resi2), 'forcefields/4_fretlabel/specbond.dat', 'forcefields/4_fretlabel/specbond.dat', overwrite=True)\n",
    "        i += 1\n",
    "    for resi2 in ['RAH', 'RGH', 'RCH', 'RUH']:\n",
    "        fl.ff.update_specbond('{} C99 1 {} N99 1 0.155 {} {}'.format(resi1, resi2, resi1, resi2), 'forcefields/4_fretlabel/specbond.dat', 'forcefields/4_fretlabel/specbond.dat', overwrite=True)\n",
    "        i += 1\n",
    "        \n",
    "for resi1 in ['DA', 'DG', 'DC', 'DT']:\n",
    "    for resi2 in ['DAO', 'DGO', 'DCO', 'DTO']:\n",
    "        fl.ff.update_specbond(' {} O3\\' 1 {} P 1 0.155 {} {}'.format(resi1, resi2, resi1, resi2), 'forcefields/4_fretlabel/specbond.dat', 'forcefields/4_fretlabel/specbond.dat', overwrite=True)\n",
    "        i += 1\n",
    "    for resi2 in ['DAP', 'DGP', 'DCP', 'DTP']:\n",
    "        fl.ff.update_specbond('{} O3\\' 1  {} P 1 0.155 {} {}'.format(resi2, resi1, resi2, resi1), 'forcefields/4_fretlabel/specbond.dat', 'forcefields/4_fretlabel/specbond.dat', overwrite=True)\n",
    "        i += 1\n",
    "    for resi2 in ['DTM', 'DAE', 'DCE']:\n",
    "        fl.ff.update_specbond('{} O3\\' 1  {} P 1 0.155 {} {}'.format(resi2, resi1, resi2, resi1), 'forcefields/4_fretlabel/specbond.dat', 'forcefields/4_fretlabel/specbond.dat', overwrite=True)\n",
    "        fl.ff.update_specbond(' {} O3\\' 1 {} P 1 0.155 {} {}'.format(resi1, resi2, resi1, resi2), 'forcefields/4_fretlabel/specbond.dat', 'forcefields/4_fretlabel/specbond.dat', overwrite=True)    \n",
    "        i += 1\n",
    "        \n",
    "for resi1 in ['RA', 'RG', 'RC', 'RU', 'A', 'G', 'C', 'U']:\n",
    "    for resi2 in ['RAO', 'RGO', 'RCO', 'RUO', 'RAH', 'RGH', 'RCH', 'RUH']:\n",
    "        fl.ff.update_specbond(' {} O3\\' 1 {} P 1 0.155 {} {}'.format(resi1, resi2, resi1, resi2), 'forcefields/4_fretlabel/specbond.dat', 'forcefields/4_fretlabel/specbond.dat', overwrite=True)\n",
    "        i += 1\n",
    "    for resi2 in ['RAP', 'RGP', 'RCP', 'RUP']:\n",
    "        fl.ff.update_specbond('{} O3\\' 1  {} P 1 0.155 {} {}'.format(resi2, resi1, resi2, resi1), 'forcefields/4_fretlabel/specbond.dat', 'forcefields/4_fretlabel/specbond.dat', overwrite=True)\n",
    "        i += 1\n",
    "    for resi2 in ['RUM', 'RAE', 'RCE']:\n",
    "        fl.ff.update_specbond('{} O3\\' 1  {} P 1 0.155 {} {}'.format(resi2, resi1, resi2, resi1), 'forcefields/4_fretlabel/specbond.dat', 'forcefields/4_fretlabel/specbond.dat', overwrite=True)\n",
    "        fl.ff.update_specbond(' {} O3\\' 1 {} P 1 0.155 {} {}'.format(resi1, resi2, resi1, resi2), 'forcefields/4_fretlabel/specbond.dat', 'forcefields/4_fretlabel/specbond.dat', overwrite=True)    \n",
    "        i += 1\n",
    "print('{} new entries in specbond.dat'.format(i))"
   ]
  },
  {
   "cell_type": "markdown",
   "id": "394abf2d",
   "metadata": {},
   "source": [
    "\n"
   ]
  }
 ],
 "metadata": {
  "jupytext": {
   "formats": "ipynb,md"
  },
  "kernelspec": {
   "display_name": "Python 3 (ipykernel)",
   "language": "python",
   "name": "python3"
  },
  "language_info": {
   "codemirror_mode": {
    "name": "ipython",
    "version": 3
   },
   "file_extension": ".py",
   "mimetype": "text/x-python",
   "name": "python",
   "nbconvert_exporter": "python",
   "pygments_lexer": "ipython3",
   "version": "3.9.7"
  }
 },
 "nbformat": 4,
 "nbformat_minor": 5
}
