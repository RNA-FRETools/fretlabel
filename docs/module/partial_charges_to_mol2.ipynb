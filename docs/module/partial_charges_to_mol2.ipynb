{
 "cells": [
  {
   "cell_type": "markdown",
   "id": "4f876f3a",
   "metadata": {},
   "source": [
    "# Transfer partial charges to mol2\n",
    "\n",
    "Here we will add partial charges from the AMBER force field (GROMACS residue topology files, **rtp**) to the RNA and DNA mononucleotides (**mol2** files).\n",
    "\n",
    "```{admonition} Processed nucleotide partial chages in *FRETlabel* on Github\n",
    "- *input files*:\n",
    "  - DNA, RNA and aminoacid parameters from GROMACS **rtp** are located in `forcefields/1_amber_rtp/`\n",
    "  - unprocessed (deoxy)nucleosides monophosphates in **mol2** format are located in `fragments/bases/in/`\n",
    "- *output files*:\n",
    "  - processed (deoxy)nucleosides monophosphates **mol2** files with updated partial charges will be located in `fragments/bases/out/`\n",
    "```"
   ]
  },
  {
   "cell_type": "code",
   "execution_count": null,
   "id": "6fad63dd",
   "metadata": {
    "lines_to_next_cell": 0
   },
   "outputs": [],
   "source": [
    "import pandas as pd\n",
    "from biopandas.mol2 import PandasMol2\n",
    "import fretlabel as fl"
   ]
  },
  {
   "cell_type": "markdown",
   "id": "1b599e34",
   "metadata": {},
   "source": [
    "Load the deoxyribonucleotides **mol2** files (with hydrogen names adapted to the AMBER ff) along with the corresponding **rtp** entries from the AMBER force field."
   ]
  },
  {
   "cell_type": "code",
   "execution_count": null,
   "id": "8c0c595d",
   "metadata": {
    "lines_to_next_cell": 2
   },
   "outputs": [],
   "source": [
    "DA_mol2 = PandasMol2().read_mol2('fragments/bases/in/deoxyadenosine.mol2')\n",
    "DT_mol2 = PandasMol2().read_mol2('fragments/bases/in/deoxythymidine.mol2')\n",
    "DG_mol2 = PandasMol2().read_mol2('fragments/bases/in/deoxyguanosine.mol2')\n",
    "DC_mol2 = PandasMol2().read_mol2('fragments/bases/in/deoxycytidine.mol2')\n",
    "\n",
    "RA_mol2 = PandasMol2().read_mol2('fragments/bases/in/adenosine.mol2')\n",
    "RU_mol2 = PandasMol2().read_mol2('fragments/bases/in/uridine.mol2')\n",
    "RG_mol2 = PandasMol2().read_mol2('fragments/bases/in/guanosine.mol2')\n",
    "RC_mol2 = PandasMol2().read_mol2('fragments/bases/in/cytidine.mol2')\n",
    "\n",
    "DA_rtp = pd.read_csv('forcefields/amber_rtp/dna.rtp', skiprows=89, sep='\\s+', nrows=32, comment=';', names=['atom_name', 'atom_type', 'charge', 'nr'], na_filter=False)\n",
    "DT_rtp = pd.read_csv('forcefields/amber_rtp/dna.rtp', skiprows=393, sep='\\s+', nrows=32, comment=';', names=['atom_name', 'atom_type', 'charge', 'nr'], na_filter=False)\n",
    "DG_rtp = pd.read_csv('forcefields/amber_rtp/dna.rtp', skiprows=700, sep='\\s+', nrows=33, comment=';', names=['atom_name', 'atom_type', 'charge', 'nr'], na_filter=False)\n",
    "DC_rtp = pd.read_csv('forcefields/amber_rtp/dna.rtp', skiprows=1007, sep='\\s+', nrows=30, comment=';', names=['atom_name', 'atom_type', 'charge', 'nr'], na_filter=False)\n",
    "\n",
    "RA_rtp = pd.read_csv('forcefields/amber_rtp/rna.rtp', skiprows=92, sep='\\s+', nrows=33, comment=';', names=['atom_name', 'atom_type', 'charge', 'nr'], na_filter=False)\n",
    "RU_rtp = pd.read_csv('forcefields/amber_rtp/rna.rtp', skiprows=397, sep='\\s+', nrows=30, comment=';', names=['atom_name', 'atom_type', 'charge', 'nr'], na_filter=False)\n",
    "RG_rtp = pd.read_csv('forcefields/amber_rtp/rna.rtp', skiprows=693, sep='\\s+', nrows=34, comment=';', names=['atom_name', 'atom_type', 'charge', 'nr'], na_filter=False)\n",
    "RC_rtp = pd.read_csv('forcefields/amber_rtp/rna.rtp', skiprows=1009, sep='\\s+', nrows=31, comment=';', names=['atom_name', 'atom_type', 'charge', 'nr'], na_filter=False)"
   ]
  },
  {
   "cell_type": "markdown",
   "id": "1d767ac4",
   "metadata": {},
   "source": [
    "<img src='../images/DA_DT.png' width=400>\n",
    "<img src='../images/DG_DC.png' width=400>"
   ]
  },
  {
   "cell_type": "markdown",
   "id": "cc3b4a4d",
   "metadata": {},
   "source": [
    "Use the `fl.ff.pandasMol2_replace()` function to add the `charge` column of the rtp file into the mol2 file. The `atom_name` column is used as the comparing index."
   ]
  },
  {
   "cell_type": "code",
   "execution_count": null,
   "id": "3fbd4ae2",
   "metadata": {},
   "outputs": [],
   "source": [
    "fl.ff.pandasMol2_replace(DA_rtp, DA_mol2.df, 'charge')\n",
    "fl.ff.pandasMol2_replace(DT_rtp, DT_mol2.df, 'charge')\n",
    "fl.ff.pandasMol2_replace(DG_rtp, DG_mol2.df, 'charge')\n",
    "fl.ff.pandasMol2_replace(DC_rtp, DC_mol2.df, 'charge')\n",
    "fl.ff.pandasMol2_replace(RA_rtp, RA_mol2.df, 'charge')\n",
    "fl.ff.pandasMol2_replace(RU_rtp, RU_mol2.df, 'charge')\n",
    "fl.ff.pandasMol2_replace(RG_rtp, RG_mol2.df, 'charge')\n",
    "fl.ff.pandasMol2_replace(RC_rtp, RC_mol2.df, 'charge')"
   ]
  },
  {
   "cell_type": "markdown",
   "id": "bbd166b5",
   "metadata": {},
   "source": [
    "Finally, save the updated mol2 files."
   ]
  },
  {
   "cell_type": "code",
   "execution_count": null,
   "id": "fb443410",
   "metadata": {},
   "outputs": [],
   "source": [
    "fl.ff.write_mol2(DA_mol2, 'fragments/bases/out/deoxyadenosine.mol2')\n",
    "fl.ff.write_mol2(DT_mol2, 'fragments/bases/out/deoxythymidine.mol2')\n",
    "fl.ff.write_mol2(DG_mol2, 'fragments/bases/out/deoxyguanosine.mol2')\n",
    "fl.ff.write_mol2(DC_mol2, 'fragments/bases/out/deoxycytidine.mol2')\n",
    "\n",
    "fl.ff.write_mol2(RA_mol2, 'fragments/bases/out/adenosine.mol2')\n",
    "fl.ff.write_mol2(RU_mol2, 'fragments/bases/out/uridine.mol2')\n",
    "fl.ff.write_mol2(RG_mol2, 'fragments/bases/out/guanosine.mol2')\n",
    "fl.ff.write_mol2(RC_mol2, 'fragments/bases/out/cytidine.mol2')"
   ]
  },
  {
   "cell_type": "code",
   "execution_count": null,
   "id": "b2e51ac9",
   "metadata": {},
   "outputs": [],
   "source": []
  }
 ],
 "metadata": {
  "jupytext": {
   "formats": "ipynb,md"
  },
  "kernelspec": {
   "display_name": "Python 3 (ipykernel)",
   "language": "python",
   "name": "python3"
  },
  "language_info": {
   "codemirror_mode": {
    "name": "ipython",
    "version": 3
   },
   "file_extension": ".py",
   "mimetype": "text/x-python",
   "name": "python",
   "nbconvert_exporter": "python",
   "pygments_lexer": "ipython3",
   "version": "3.9.7"
  }
 },
 "nbformat": 4,
 "nbformat_minor": 5
}
